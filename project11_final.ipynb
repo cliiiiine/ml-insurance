{
 "cells": [
  {
   "cell_type": "markdown",
   "metadata": {},
   "source": [
    "# Machine Learning for Insurance: Customer Insights, Predictions, and Data Security"
   ]
  },
  {
   "cell_type": "markdown",
   "metadata": {},
   "source": [
    "### Objective:\n",
    "The Sure Tomorrow insurance company wants to solve several tasks with the help of Machine Learning and you are asked to evaluate that possibility.\n",
    "\n",
    "- Task 1: Find customers who are similar to a given customer. This will help the company's agents with marketing.\n",
    "- Task 2: Predict whether a new customer is likely to receive an insurance benefit. Can a prediction model do better than a dummy model?\n",
    "- Task 3: Predict the number of insurance benefits a new customer is likely to receive using a linear regression model.\n",
    "- Task 4: Protect clients' personal data without breaking the model from the previous task. It's necessary to develop a data transformation algorithm that would make it hard to recover personal information if the data fell into the wrong hands. This is called data masking, or data obfuscation. But the data should be protected in such a way that the quality of machine learning models doesn't suffer. You don't need to pick the best model, just prove that the algorithm works correctly."
   ]
  },
  {
   "cell_type": "markdown",
   "metadata": {},
   "source": [
    "The Sure Tomorrow insurance company wants to explore how Machine Learning can help improve its business processes. The project involves evaluating the feasibility of solving several key tasks using ML models."
   ]
  },
  {
   "cell_type": "markdown",
   "metadata": {},
   "source": [
    "# Data Preprocessing & Exploration\n",
    "\n",
    "## Initialization"
   ]
  },
  {
   "cell_type": "code",
   "execution_count": 3,
   "metadata": {
    "trusted": false
   },
   "outputs": [],
   "source": [
    "import numpy as np\n",
    "import pandas as pd\n",
    "\n",
    "import seaborn as sns\n",
    "from matplotlib import pyplot as plt\n",
    "\n",
    "import sklearn.linear_model\n",
    "import sklearn.metrics\n",
    "import sklearn.neighbors\n",
    "import sklearn.preprocessing\n",
    "from sklearn.neighbors import KNeighborsClassifier\n",
    "\n",
    "from sklearn.model_selection import train_test_split\n",
    "import math\n",
    "\n",
    "from IPython.display import display"
   ]
  },
  {
   "cell_type": "markdown",
   "metadata": {},
   "source": [
    "## Load Data"
   ]
  },
  {
   "cell_type": "markdown",
   "metadata": {},
   "source": [
    "Load data and conduct a basic check that it's free from obvious issues."
   ]
  },
  {
   "cell_type": "code",
   "execution_count": null,
   "metadata": {
    "trusted": false
   },
   "outputs": [],
   "source": [
    "df = pd.read_csv('/Users/keithrobinson/Desktop/TripleTen/Projects/project11/insurance_us.csv')"
   ]
  },
  {
   "cell_type": "markdown",
   "metadata": {},
   "source": [
    "We rename the columns to make the code look more consistent with its style."
   ]
  },
  {
   "cell_type": "code",
   "execution_count": null,
   "metadata": {
    "trusted": false
   },
   "outputs": [],
   "source": [
    "df = df.rename(columns={'Gender': 'gender', 'Age': 'age', 'Salary': 'income', 'Family members': 'family_members', 'Insurance benefits': 'insurance_benefits'})"
   ]
  },
  {
   "cell_type": "code",
   "execution_count": null,
   "metadata": {
    "trusted": false
   },
   "outputs": [
    {
     "data": {
      "text/html": [
       "<div>\n",
       "<style scoped>\n",
       "    .dataframe tbody tr th:only-of-type {\n",
       "        vertical-align: middle;\n",
       "    }\n",
       "\n",
       "    .dataframe tbody tr th {\n",
       "        vertical-align: top;\n",
       "    }\n",
       "\n",
       "    .dataframe thead th {\n",
       "        text-align: right;\n",
       "    }\n",
       "</style>\n",
       "<table border=\"1\" class=\"dataframe\">\n",
       "  <thead>\n",
       "    <tr style=\"text-align: right;\">\n",
       "      <th></th>\n",
       "      <th>gender</th>\n",
       "      <th>age</th>\n",
       "      <th>income</th>\n",
       "      <th>family_members</th>\n",
       "      <th>insurance_benefits</th>\n",
       "    </tr>\n",
       "  </thead>\n",
       "  <tbody>\n",
       "    <tr>\n",
       "      <th>235</th>\n",
       "      <td>0</td>\n",
       "      <td>55.0</td>\n",
       "      <td>35900.0</td>\n",
       "      <td>1</td>\n",
       "      <td>3</td>\n",
       "    </tr>\n",
       "    <tr>\n",
       "      <th>916</th>\n",
       "      <td>1</td>\n",
       "      <td>41.0</td>\n",
       "      <td>55100.0</td>\n",
       "      <td>1</td>\n",
       "      <td>0</td>\n",
       "    </tr>\n",
       "    <tr>\n",
       "      <th>17</th>\n",
       "      <td>1</td>\n",
       "      <td>41.0</td>\n",
       "      <td>33200.0</td>\n",
       "      <td>2</td>\n",
       "      <td>0</td>\n",
       "    </tr>\n",
       "    <tr>\n",
       "      <th>1859</th>\n",
       "      <td>0</td>\n",
       "      <td>32.0</td>\n",
       "      <td>34900.0</td>\n",
       "      <td>2</td>\n",
       "      <td>0</td>\n",
       "    </tr>\n",
       "    <tr>\n",
       "      <th>2726</th>\n",
       "      <td>1</td>\n",
       "      <td>36.0</td>\n",
       "      <td>64000.0</td>\n",
       "      <td>3</td>\n",
       "      <td>0</td>\n",
       "    </tr>\n",
       "    <tr>\n",
       "      <th>211</th>\n",
       "      <td>0</td>\n",
       "      <td>33.0</td>\n",
       "      <td>39900.0</td>\n",
       "      <td>1</td>\n",
       "      <td>0</td>\n",
       "    </tr>\n",
       "    <tr>\n",
       "      <th>4145</th>\n",
       "      <td>1</td>\n",
       "      <td>28.0</td>\n",
       "      <td>37400.0</td>\n",
       "      <td>2</td>\n",
       "      <td>0</td>\n",
       "    </tr>\n",
       "    <tr>\n",
       "      <th>3356</th>\n",
       "      <td>1</td>\n",
       "      <td>20.0</td>\n",
       "      <td>46600.0</td>\n",
       "      <td>1</td>\n",
       "      <td>0</td>\n",
       "    </tr>\n",
       "    <tr>\n",
       "      <th>2149</th>\n",
       "      <td>1</td>\n",
       "      <td>20.0</td>\n",
       "      <td>47900.0</td>\n",
       "      <td>1</td>\n",
       "      <td>0</td>\n",
       "    </tr>\n",
       "    <tr>\n",
       "      <th>2699</th>\n",
       "      <td>0</td>\n",
       "      <td>40.0</td>\n",
       "      <td>39400.0</td>\n",
       "      <td>3</td>\n",
       "      <td>0</td>\n",
       "    </tr>\n",
       "  </tbody>\n",
       "</table>\n",
       "</div>"
      ],
      "text/plain": [
       "      gender   age   income  family_members  insurance_benefits\n",
       "235        0  55.0  35900.0               1                   3\n",
       "916        1  41.0  55100.0               1                   0\n",
       "17         1  41.0  33200.0               2                   0\n",
       "1859       0  32.0  34900.0               2                   0\n",
       "2726       1  36.0  64000.0               3                   0\n",
       "211        0  33.0  39900.0               1                   0\n",
       "4145       1  28.0  37400.0               2                   0\n",
       "3356       1  20.0  46600.0               1                   0\n",
       "2149       1  20.0  47900.0               1                   0\n",
       "2699       0  40.0  39400.0               3                   0"
      ]
     },
     "execution_count": 63,
     "metadata": {},
     "output_type": "execute_result"
    }
   ],
   "source": [
    "df.sample(10)"
   ]
  },
  {
   "cell_type": "code",
   "execution_count": null,
   "metadata": {
    "trusted": false
   },
   "outputs": [
    {
     "name": "stdout",
     "output_type": "stream",
     "text": [
      "<class 'pandas.core.frame.DataFrame'>\n",
      "RangeIndex: 5000 entries, 0 to 4999\n",
      "Data columns (total 5 columns):\n",
      " #   Column              Non-Null Count  Dtype  \n",
      "---  ------              --------------  -----  \n",
      " 0   gender              5000 non-null   int64  \n",
      " 1   age                 5000 non-null   float64\n",
      " 2   income              5000 non-null   float64\n",
      " 3   family_members      5000 non-null   int64  \n",
      " 4   insurance_benefits  5000 non-null   int64  \n",
      "dtypes: float64(2), int64(3)\n",
      "memory usage: 195.4 KB\n"
     ]
    }
   ],
   "source": [
    "df.info()"
   ]
  },
  {
   "cell_type": "code",
   "execution_count": null,
   "metadata": {
    "trusted": false
   },
   "outputs": [],
   "source": [
    "# we may want to fix the age type (from float to int) though this is not critical\n",
    "df['age'] = df['age'].astype(int)"
   ]
  },
  {
   "cell_type": "code",
   "execution_count": null,
   "metadata": {
    "trusted": false
   },
   "outputs": [
    {
     "name": "stdout",
     "output_type": "stream",
     "text": [
      "<class 'pandas.core.frame.DataFrame'>\n",
      "RangeIndex: 5000 entries, 0 to 4999\n",
      "Data columns (total 5 columns):\n",
      " #   Column              Non-Null Count  Dtype  \n",
      "---  ------              --------------  -----  \n",
      " 0   gender              5000 non-null   int64  \n",
      " 1   age                 5000 non-null   int64  \n",
      " 2   income              5000 non-null   float64\n",
      " 3   family_members      5000 non-null   int64  \n",
      " 4   insurance_benefits  5000 non-null   int64  \n",
      "dtypes: float64(1), int64(4)\n",
      "memory usage: 195.4 KB\n"
     ]
    }
   ],
   "source": [
    "df.info()"
   ]
  },
  {
   "cell_type": "code",
   "execution_count": null,
   "metadata": {
    "trusted": false
   },
   "outputs": [
    {
     "data": {
      "text/html": [
       "<div>\n",
       "<style scoped>\n",
       "    .dataframe tbody tr th:only-of-type {\n",
       "        vertical-align: middle;\n",
       "    }\n",
       "\n",
       "    .dataframe tbody tr th {\n",
       "        vertical-align: top;\n",
       "    }\n",
       "\n",
       "    .dataframe thead th {\n",
       "        text-align: right;\n",
       "    }\n",
       "</style>\n",
       "<table border=\"1\" class=\"dataframe\">\n",
       "  <thead>\n",
       "    <tr style=\"text-align: right;\">\n",
       "      <th></th>\n",
       "      <th>gender</th>\n",
       "      <th>age</th>\n",
       "      <th>income</th>\n",
       "      <th>family_members</th>\n",
       "      <th>insurance_benefits</th>\n",
       "    </tr>\n",
       "  </thead>\n",
       "  <tbody>\n",
       "    <tr>\n",
       "      <th>count</th>\n",
       "      <td>5000.000000</td>\n",
       "      <td>5000.000000</td>\n",
       "      <td>5000.000000</td>\n",
       "      <td>5000.000000</td>\n",
       "      <td>5000.000000</td>\n",
       "    </tr>\n",
       "    <tr>\n",
       "      <th>mean</th>\n",
       "      <td>0.499000</td>\n",
       "      <td>30.952800</td>\n",
       "      <td>39916.360000</td>\n",
       "      <td>1.194200</td>\n",
       "      <td>0.148000</td>\n",
       "    </tr>\n",
       "    <tr>\n",
       "      <th>std</th>\n",
       "      <td>0.500049</td>\n",
       "      <td>8.440807</td>\n",
       "      <td>9900.083569</td>\n",
       "      <td>1.091387</td>\n",
       "      <td>0.463183</td>\n",
       "    </tr>\n",
       "    <tr>\n",
       "      <th>min</th>\n",
       "      <td>0.000000</td>\n",
       "      <td>18.000000</td>\n",
       "      <td>5300.000000</td>\n",
       "      <td>0.000000</td>\n",
       "      <td>0.000000</td>\n",
       "    </tr>\n",
       "    <tr>\n",
       "      <th>25%</th>\n",
       "      <td>0.000000</td>\n",
       "      <td>24.000000</td>\n",
       "      <td>33300.000000</td>\n",
       "      <td>0.000000</td>\n",
       "      <td>0.000000</td>\n",
       "    </tr>\n",
       "    <tr>\n",
       "      <th>50%</th>\n",
       "      <td>0.000000</td>\n",
       "      <td>30.000000</td>\n",
       "      <td>40200.000000</td>\n",
       "      <td>1.000000</td>\n",
       "      <td>0.000000</td>\n",
       "    </tr>\n",
       "    <tr>\n",
       "      <th>75%</th>\n",
       "      <td>1.000000</td>\n",
       "      <td>37.000000</td>\n",
       "      <td>46600.000000</td>\n",
       "      <td>2.000000</td>\n",
       "      <td>0.000000</td>\n",
       "    </tr>\n",
       "    <tr>\n",
       "      <th>max</th>\n",
       "      <td>1.000000</td>\n",
       "      <td>65.000000</td>\n",
       "      <td>79000.000000</td>\n",
       "      <td>6.000000</td>\n",
       "      <td>5.000000</td>\n",
       "    </tr>\n",
       "  </tbody>\n",
       "</table>\n",
       "</div>"
      ],
      "text/plain": [
       "            gender          age        income  family_members  \\\n",
       "count  5000.000000  5000.000000   5000.000000     5000.000000   \n",
       "mean      0.499000    30.952800  39916.360000        1.194200   \n",
       "std       0.500049     8.440807   9900.083569        1.091387   \n",
       "min       0.000000    18.000000   5300.000000        0.000000   \n",
       "25%       0.000000    24.000000  33300.000000        0.000000   \n",
       "50%       0.000000    30.000000  40200.000000        1.000000   \n",
       "75%       1.000000    37.000000  46600.000000        2.000000   \n",
       "max       1.000000    65.000000  79000.000000        6.000000   \n",
       "\n",
       "       insurance_benefits  \n",
       "count         5000.000000  \n",
       "mean             0.148000  \n",
       "std              0.463183  \n",
       "min              0.000000  \n",
       "25%              0.000000  \n",
       "50%              0.000000  \n",
       "75%              0.000000  \n",
       "max              5.000000  "
      ]
     },
     "execution_count": 67,
     "metadata": {},
     "output_type": "execute_result"
    }
   ],
   "source": [
    "# looking into the descriptive statistics\n",
    "df.describe()"
   ]
  },
  {
   "cell_type": "markdown",
   "metadata": {},
   "source": [
    "No negative numbers for any of the columns. Gender makes sense (1 or 0). Insurance benefits looks a tad odd but I already saw in the sample that Insurance benefits had nunbers other than 0 and 5."
   ]
  },
  {
   "cell_type": "code",
   "execution_count": null,
   "metadata": {
    "trusted": false
   },
   "outputs": [
    {
     "data": {
      "text/plain": [
       "153"
      ]
     },
     "execution_count": 68,
     "metadata": {},
     "output_type": "execute_result"
    }
   ],
   "source": [
    "df.duplicated().sum()"
   ]
  },
  {
   "cell_type": "code",
   "execution_count": null,
   "metadata": {
    "trusted": false
   },
   "outputs": [],
   "source": [
    "df.drop_duplicates(inplace=True, ignore_index=True)"
   ]
  },
  {
   "cell_type": "code",
   "execution_count": null,
   "metadata": {
    "trusted": false
   },
   "outputs": [
    {
     "name": "stdout",
     "output_type": "stream",
     "text": [
      "<class 'pandas.core.frame.DataFrame'>\n",
      "RangeIndex: 4847 entries, 0 to 4846\n",
      "Data columns (total 5 columns):\n",
      " #   Column              Non-Null Count  Dtype  \n",
      "---  ------              --------------  -----  \n",
      " 0   gender              4847 non-null   int64  \n",
      " 1   age                 4847 non-null   int64  \n",
      " 2   income              4847 non-null   float64\n",
      " 3   family_members      4847 non-null   int64  \n",
      " 4   insurance_benefits  4847 non-null   int64  \n",
      "dtypes: float64(1), int64(4)\n",
      "memory usage: 189.5 KB\n"
     ]
    }
   ],
   "source": [
    "df.info()"
   ]
  },
  {
   "cell_type": "markdown",
   "metadata": {},
   "source": [
    "The data is clean. It has the correct data types, no missing values and the duplicates were taken care of."
   ]
  },
  {
   "cell_type": "markdown",
   "metadata": {},
   "source": [
    "## EDA"
   ]
  },
  {
   "cell_type": "markdown",
   "metadata": {},
   "source": [
    "I am going to check whether there are certain groups of customers by looking at the pair plot."
   ]
  },
  {
   "cell_type": "code",
   "execution_count": null,
   "metadata": {
    "trusted": false
   },
   "outputs": [
    {
     "data": {
      "image/png": "[encoded data removed]",
      "text/plain": [
       "<Figure size 1200x1200 with 30 Axes>"
      ]
     },
     "metadata": {},
     "output_type": "display_data"
    }
   ],
   "source": [
    "g = sns.pairplot(df, kind='hist')\n",
    "g.fig.set_size_inches(12, 12)"
   ]
  },
  {
   "cell_type": "markdown",
   "metadata": {},
   "source": [
    "Ok, it is a bit difficult to spot obvious groups (clusters) as it is difficult to combine several variables simultaneously (to analyze multivariate distributions)."
   ]
  },
  {
   "cell_type": "code",
   "execution_count": null,
   "metadata": {
    "trusted": false
   },
   "outputs": [
    {
     "data": {
      "image/png": "[encoded data removed]",
      "text/plain": [
       "<Figure size 1500x1000 with 6 Axes>"
      ]
     },
     "metadata": {},
     "output_type": "display_data"
    }
   ],
   "source": [
    "ax = df.hist(figsize=(15,10))\n",
    "\n",
    "for row in ax:\n",
    "    for subplot in row:\n",
    "        subplot.set_xlabel(\"Value\") \n",
    "        subplot.set_ylabel(\"Frequency\")\n",
    "        \n",
    "plt.show()"
   ]
  },
  {
   "cell_type": "markdown",
   "metadata": {},
   "source": [
    "Looking at the histogram I can note a number of things:\n",
    "\n",
    "* The amount of benefits received based on gender is pretty much the same between male and female\n",
    "* Majority of the family members receiving benefits are between ages 20-30\n",
    "* Insurance benefits are normally distributed around 40,000\n",
    "* Most people have not received any insurance benefits whatsoever while a very small number of people have received at least 1 or more benefits\n"
   ]
  },
  {
   "cell_type": "markdown",
   "metadata": {},
   "source": [
    "# Similar Customers"
   ]
  },
  {
   "cell_type": "markdown",
   "metadata": {},
   "source": [
    "In the language of ML, it is necessary to develop a procedure that returns k nearest neighbors (objects) for a given object based on the distance between the objects."
   ]
  },
  {
   "cell_type": "markdown",
   "metadata": {},
   "source": [
    "I am going to write a function that returns k nearest neighbors for an $n^{th}$ object based on a specified distance metric. The number of received insurance benefits should not be taken into account for this task. \n",
    "\n",
    "Test it for four combination of two cases\n",
    "- Scaling\n",
    "  - the data is not scaled\n",
    "  - the data is scaled with the [MaxAbsScaler](https://scikit-learn.org/stable/modules/generated/sklearn.preprocessing.MaxAbsScaler.html) scaler\n",
    "- Distance Metrics\n",
    "  - Euclidean\n",
    "  - Manhattan\n",
    "\n",
    "Answer these questions:\n",
    "- Does the data being not scaled affect the kNN algorithm? If so, how does that appear?\n",
    "- How similar are the results using the Manhattan distance metric (regardless of the scaling)?"
   ]
  },
  {
   "cell_type": "code",
   "execution_count": null,
   "metadata": {
    "trusted": false
   },
   "outputs": [],
   "source": [
    "feature_names = ['gender', 'age', 'income', 'family_members']"
   ]
  },
  {
   "cell_type": "code",
   "execution_count": null,
   "metadata": {
    "trusted": false
   },
   "outputs": [],
   "source": [
    "def get_knn(df, n, k, metric, feature_names):\n",
    "    \n",
    "    \"\"\"\n",
    "    Returns k nearest neighbors\n",
    "\n",
    "    :param df: pandas DataFrame used to find similar objects within\n",
    "    :param n: object no for which the nearest neighbours are looked for\n",
    "    :param k: the number of the nearest neighbours to return\n",
    "    :param metric: name of distance metric\n",
    "    \"\"\"\n",
    "\n",
    "    nbrs = sklearn.neighbors.NearestNeighbors(n_neighbors=k, metric=metric)\n",
    "    X = df[feature_names]\n",
    "    nbrs.fit(X)\n",
    "    test_sample = pd.DataFrame([df.iloc[n][feature_names]], columns=feature_names)\n",
    "    nbrs_distances, nbrs_indices = nbrs.kneighbors(test_sample, return_distance=True)\n",
    "    \n",
    "    df_res = pd.concat([\n",
    "        df.iloc[nbrs_indices[0]], \n",
    "        pd.DataFrame(nbrs_distances.T, index=nbrs_indices[0], columns=['distance'])\n",
    "        ], axis=1)\n",
    "    \n",
    "    return df_res"
   ]
  },
  {
   "cell_type": "markdown",
   "metadata": {},
   "source": [
    "Scaling the data."
   ]
  },
  {
   "cell_type": "code",
   "execution_count": null,
   "metadata": {
    "trusted": false
   },
   "outputs": [
    {
     "name": "stderr",
     "output_type": "stream",
     "text": [
      "/var/folders/2c/tfkhfg6d5jj1g3ttv18s3t5r0000gn/T/ipykernel_6990/44282885.py:4: FutureWarning: Setting an item of incompatible dtype is deprecated and will raise in a future error of pandas. Value '[0.63076923 0.70769231 0.44615385 ... 0.30769231 0.33846154 0.43076923]' has dtype incompatible with int64, please explicitly cast to a compatible dtype first.\n",
      "  df_scaled.loc[:, feature_names] = transformer_mas.transform(df[feature_names].to_numpy())\n",
      "/var/folders/2c/tfkhfg6d5jj1g3ttv18s3t5r0000gn/T/ipykernel_6990/44282885.py:4: FutureWarning: Setting an item of incompatible dtype is deprecated and will raise in a future error of pandas. Value '[0.16666667 0.16666667 0.         ... 0.33333333 0.5        0.16666667]' has dtype incompatible with int64, please explicitly cast to a compatible dtype first.\n",
      "  df_scaled.loc[:, feature_names] = transformer_mas.transform(df[feature_names].to_numpy())\n"
     ]
    }
   ],
   "source": [
    "transformer_mas = sklearn.preprocessing.MaxAbsScaler().fit(df[feature_names].to_numpy())\n",
    "\n",
    "df_scaled = df.copy()\n",
    "df_scaled.loc[:, feature_names] = transformer_mas.transform(df[feature_names].to_numpy())"
   ]
  },
  {
   "cell_type": "code",
   "execution_count": null,
   "metadata": {
    "collapsed": true,
    "trusted": false
   },
   "outputs": [
    {
     "data": {
      "text/html": [
       "<div>\n",
       "<style scoped>\n",
       "    .dataframe tbody tr th:only-of-type {\n",
       "        vertical-align: middle;\n",
       "    }\n",
       "\n",
       "    .dataframe tbody tr th {\n",
       "        vertical-align: top;\n",
       "    }\n",
       "\n",
       "    .dataframe thead th {\n",
       "        text-align: right;\n",
       "    }\n",
       "</style>\n",
       "<table border=\"1\" class=\"dataframe\">\n",
       "  <thead>\n",
       "    <tr style=\"text-align: right;\">\n",
       "      <th></th>\n",
       "      <th>gender</th>\n",
       "      <th>age</th>\n",
       "      <th>income</th>\n",
       "      <th>family_members</th>\n",
       "      <th>insurance_benefits</th>\n",
       "    </tr>\n",
       "  </thead>\n",
       "  <tbody>\n",
       "    <tr>\n",
       "      <th>1279</th>\n",
       "      <td>0</td>\n",
       "      <td>0.353846</td>\n",
       "      <td>0.607595</td>\n",
       "      <td>0.166667</td>\n",
       "      <td>0</td>\n",
       "    </tr>\n",
       "    <tr>\n",
       "      <th>3154</th>\n",
       "      <td>0</td>\n",
       "      <td>0.538462</td>\n",
       "      <td>0.287342</td>\n",
       "      <td>0.333333</td>\n",
       "      <td>0</td>\n",
       "    </tr>\n",
       "    <tr>\n",
       "      <th>3347</th>\n",
       "      <td>1</td>\n",
       "      <td>0.461538</td>\n",
       "      <td>0.569620</td>\n",
       "      <td>0.500000</td>\n",
       "      <td>0</td>\n",
       "    </tr>\n",
       "    <tr>\n",
       "      <th>773</th>\n",
       "      <td>1</td>\n",
       "      <td>0.476923</td>\n",
       "      <td>0.489873</td>\n",
       "      <td>0.166667</td>\n",
       "      <td>0</td>\n",
       "    </tr>\n",
       "    <tr>\n",
       "      <th>871</th>\n",
       "      <td>0</td>\n",
       "      <td>0.307692</td>\n",
       "      <td>0.597468</td>\n",
       "      <td>0.166667</td>\n",
       "      <td>0</td>\n",
       "    </tr>\n",
       "  </tbody>\n",
       "</table>\n",
       "</div>"
      ],
      "text/plain": [
       "      gender       age    income  family_members  insurance_benefits\n",
       "1279       0  0.353846  0.607595        0.166667                   0\n",
       "3154       0  0.538462  0.287342        0.333333                   0\n",
       "3347       1  0.461538  0.569620        0.500000                   0\n",
       "773        1  0.476923  0.489873        0.166667                   0\n",
       "871        0  0.307692  0.597468        0.166667                   0"
      ]
     },
     "execution_count": 76,
     "metadata": {},
     "output_type": "execute_result"
    }
   ],
   "source": [
    "df_scaled.sample(5)"
   ]
  },
  {
   "cell_type": "markdown",
   "metadata": {},
   "source": [
    "Now, let's get similar records for a given one for every combination"
   ]
  },
  {
   "cell_type": "code",
   "execution_count": null,
   "metadata": {
    "collapsed": true,
    "trusted": false
   },
   "outputs": [
    {
     "data": {
      "text/html": [
       "<div>\n",
       "<style scoped>\n",
       "    .dataframe tbody tr th:only-of-type {\n",
       "        vertical-align: middle;\n",
       "    }\n",
       "\n",
       "    .dataframe tbody tr th {\n",
       "        vertical-align: top;\n",
       "    }\n",
       "\n",
       "    .dataframe thead th {\n",
       "        text-align: right;\n",
       "    }\n",
       "</style>\n",
       "<table border=\"1\" class=\"dataframe\">\n",
       "  <thead>\n",
       "    <tr style=\"text-align: right;\">\n",
       "      <th></th>\n",
       "      <th>gender</th>\n",
       "      <th>age</th>\n",
       "      <th>income</th>\n",
       "      <th>family_members</th>\n",
       "      <th>insurance_benefits</th>\n",
       "      <th>distance</th>\n",
       "    </tr>\n",
       "  </thead>\n",
       "  <tbody>\n",
       "    <tr>\n",
       "      <th>42</th>\n",
       "      <td>1</td>\n",
       "      <td>42</td>\n",
       "      <td>69200.0</td>\n",
       "      <td>0</td>\n",
       "      <td>1</td>\n",
       "      <td>0.000000</td>\n",
       "    </tr>\n",
       "    <tr>\n",
       "      <th>4356</th>\n",
       "      <td>0</td>\n",
       "      <td>45</td>\n",
       "      <td>69400.0</td>\n",
       "      <td>1</td>\n",
       "      <td>1</td>\n",
       "      <td>200.027498</td>\n",
       "    </tr>\n",
       "    <tr>\n",
       "      <th>3914</th>\n",
       "      <td>0</td>\n",
       "      <td>33</td>\n",
       "      <td>68900.0</td>\n",
       "      <td>1</td>\n",
       "      <td>0</td>\n",
       "      <td>300.138301</td>\n",
       "    </tr>\n",
       "    <tr>\n",
       "      <th>2943</th>\n",
       "      <td>1</td>\n",
       "      <td>36</td>\n",
       "      <td>68500.0</td>\n",
       "      <td>1</td>\n",
       "      <td>0</td>\n",
       "      <td>700.026428</td>\n",
       "    </tr>\n",
       "    <tr>\n",
       "      <th>3667</th>\n",
       "      <td>1</td>\n",
       "      <td>28</td>\n",
       "      <td>70000.0</td>\n",
       "      <td>2</td>\n",
       "      <td>0</td>\n",
       "      <td>800.124990</td>\n",
       "    </tr>\n",
       "    <tr>\n",
       "      <th>2901</th>\n",
       "      <td>0</td>\n",
       "      <td>27</td>\n",
       "      <td>68400.0</td>\n",
       "      <td>0</td>\n",
       "      <td>0</td>\n",
       "      <td>800.141238</td>\n",
       "    </tr>\n",
       "    <tr>\n",
       "      <th>2056</th>\n",
       "      <td>1</td>\n",
       "      <td>21</td>\n",
       "      <td>68000.0</td>\n",
       "      <td>2</td>\n",
       "      <td>0</td>\n",
       "      <td>1200.185402</td>\n",
       "    </tr>\n",
       "    <tr>\n",
       "      <th>3279</th>\n",
       "      <td>1</td>\n",
       "      <td>50</td>\n",
       "      <td>70500.0</td>\n",
       "      <td>0</td>\n",
       "      <td>2</td>\n",
       "      <td>1300.024615</td>\n",
       "    </tr>\n",
       "    <tr>\n",
       "      <th>1863</th>\n",
       "      <td>1</td>\n",
       "      <td>30</td>\n",
       "      <td>70600.0</td>\n",
       "      <td>0</td>\n",
       "      <td>0</td>\n",
       "      <td>1400.051428</td>\n",
       "    </tr>\n",
       "    <tr>\n",
       "      <th>424</th>\n",
       "      <td>1</td>\n",
       "      <td>30</td>\n",
       "      <td>67700.0</td>\n",
       "      <td>0</td>\n",
       "      <td>0</td>\n",
       "      <td>1500.047999</td>\n",
       "    </tr>\n",
       "    <tr>\n",
       "      <th>3023</th>\n",
       "      <td>1</td>\n",
       "      <td>29</td>\n",
       "      <td>67200.0</td>\n",
       "      <td>1</td>\n",
       "      <td>0</td>\n",
       "      <td>2000.042500</td>\n",
       "    </tr>\n",
       "    <tr>\n",
       "      <th>3309</th>\n",
       "      <td>1</td>\n",
       "      <td>28</td>\n",
       "      <td>67100.0</td>\n",
       "      <td>1</td>\n",
       "      <td>0</td>\n",
       "      <td>2100.046904</td>\n",
       "    </tr>\n",
       "    <tr>\n",
       "      <th>2160</th>\n",
       "      <td>1</td>\n",
       "      <td>26</td>\n",
       "      <td>71400.0</td>\n",
       "      <td>0</td>\n",
       "      <td>0</td>\n",
       "      <td>2200.058181</td>\n",
       "    </tr>\n",
       "    <tr>\n",
       "      <th>3242</th>\n",
       "      <td>0</td>\n",
       "      <td>34</td>\n",
       "      <td>71600.0</td>\n",
       "      <td>2</td>\n",
       "      <td>0</td>\n",
       "      <td>2400.014375</td>\n",
       "    </tr>\n",
       "    <tr>\n",
       "      <th>2427</th>\n",
       "      <td>0</td>\n",
       "      <td>25</td>\n",
       "      <td>66300.0</td>\n",
       "      <td>1</td>\n",
       "      <td>0</td>\n",
       "      <td>2900.050172</td>\n",
       "    </tr>\n",
       "  </tbody>\n",
       "</table>\n",
       "</div>"
      ],
      "text/plain": [
       "      gender  age   income  family_members  insurance_benefits     distance\n",
       "42         1   42  69200.0               0                   1     0.000000\n",
       "4356       0   45  69400.0               1                   1   200.027498\n",
       "3914       0   33  68900.0               1                   0   300.138301\n",
       "2943       1   36  68500.0               1                   0   700.026428\n",
       "3667       1   28  70000.0               2                   0   800.124990\n",
       "2901       0   27  68400.0               0                   0   800.141238\n",
       "2056       1   21  68000.0               2                   0  1200.185402\n",
       "3279       1   50  70500.0               0                   2  1300.024615\n",
       "1863       1   30  70600.0               0                   0  1400.051428\n",
       "424        1   30  67700.0               0                   0  1500.047999\n",
       "3023       1   29  67200.0               1                   0  2000.042500\n",
       "3309       1   28  67100.0               1                   0  2100.046904\n",
       "2160       1   26  71400.0               0                   0  2200.058181\n",
       "3242       0   34  71600.0               2                   0  2400.014375\n",
       "2427       0   25  66300.0               1                   0  2900.050172"
      ]
     },
     "execution_count": 77,
     "metadata": {},
     "output_type": "execute_result"
    }
   ],
   "source": [
    "score_original_euclidean = get_knn(df, 42, 15, 'euclidean', feature_names)\n",
    "score_original_euclidean"
   ]
  },
  {
   "cell_type": "code",
   "execution_count": null,
   "metadata": {
    "trusted": false
   },
   "outputs": [
    {
     "data": {
      "text/html": [
       "<div>\n",
       "<style scoped>\n",
       "    .dataframe tbody tr th:only-of-type {\n",
       "        vertical-align: middle;\n",
       "    }\n",
       "\n",
       "    .dataframe tbody tr th {\n",
       "        vertical-align: top;\n",
       "    }\n",
       "\n",
       "    .dataframe thead th {\n",
       "        text-align: right;\n",
       "    }\n",
       "</style>\n",
       "<table border=\"1\" class=\"dataframe\">\n",
       "  <thead>\n",
       "    <tr style=\"text-align: right;\">\n",
       "      <th></th>\n",
       "      <th>gender</th>\n",
       "      <th>age</th>\n",
       "      <th>income</th>\n",
       "      <th>family_members</th>\n",
       "      <th>insurance_benefits</th>\n",
       "      <th>distance</th>\n",
       "    </tr>\n",
       "  </thead>\n",
       "  <tbody>\n",
       "    <tr>\n",
       "      <th>42</th>\n",
       "      <td>1</td>\n",
       "      <td>0.646154</td>\n",
       "      <td>0.875949</td>\n",
       "      <td>0.0</td>\n",
       "      <td>1</td>\n",
       "      <td>0.000000</td>\n",
       "    </tr>\n",
       "    <tr>\n",
       "      <th>213</th>\n",
       "      <td>1</td>\n",
       "      <td>0.661538</td>\n",
       "      <td>0.763291</td>\n",
       "      <td>0.0</td>\n",
       "      <td>1</td>\n",
       "      <td>0.113704</td>\n",
       "    </tr>\n",
       "    <tr>\n",
       "      <th>3279</th>\n",
       "      <td>1</td>\n",
       "      <td>0.769231</td>\n",
       "      <td>0.892405</td>\n",
       "      <td>0.0</td>\n",
       "      <td>2</td>\n",
       "      <td>0.124172</td>\n",
       "    </tr>\n",
       "    <tr>\n",
       "      <th>771</th>\n",
       "      <td>1</td>\n",
       "      <td>0.600000</td>\n",
       "      <td>0.758228</td>\n",
       "      <td>0.0</td>\n",
       "      <td>0</td>\n",
       "      <td>0.126446</td>\n",
       "    </tr>\n",
       "    <tr>\n",
       "      <th>2833</th>\n",
       "      <td>1</td>\n",
       "      <td>0.630769</td>\n",
       "      <td>0.739241</td>\n",
       "      <td>0.0</td>\n",
       "      <td>0</td>\n",
       "      <td>0.137572</td>\n",
       "    </tr>\n",
       "  </tbody>\n",
       "</table>\n",
       "</div>"
      ],
      "text/plain": [
       "      gender       age    income  family_members  insurance_benefits  distance\n",
       "42         1  0.646154  0.875949             0.0                   1  0.000000\n",
       "213        1  0.661538  0.763291             0.0                   1  0.113704\n",
       "3279       1  0.769231  0.892405             0.0                   2  0.124172\n",
       "771        1  0.600000  0.758228             0.0                   0  0.126446\n",
       "2833       1  0.630769  0.739241             0.0                   0  0.137572"
      ]
     },
     "execution_count": 78,
     "metadata": {},
     "output_type": "execute_result"
    }
   ],
   "source": [
    "score_scaled_euclidean = get_knn(df_scaled, 42, 5, 'euclidean', feature_names)\n",
    "score_scaled_euclidean"
   ]
  },
  {
   "cell_type": "code",
   "execution_count": null,
   "metadata": {
    "trusted": false
   },
   "outputs": [
    {
     "data": {
      "text/html": [
       "<div>\n",
       "<style scoped>\n",
       "    .dataframe tbody tr th:only-of-type {\n",
       "        vertical-align: middle;\n",
       "    }\n",
       "\n",
       "    .dataframe tbody tr th {\n",
       "        vertical-align: top;\n",
       "    }\n",
       "\n",
       "    .dataframe thead th {\n",
       "        text-align: right;\n",
       "    }\n",
       "</style>\n",
       "<table border=\"1\" class=\"dataframe\">\n",
       "  <thead>\n",
       "    <tr style=\"text-align: right;\">\n",
       "      <th></th>\n",
       "      <th>gender</th>\n",
       "      <th>age</th>\n",
       "      <th>income</th>\n",
       "      <th>family_members</th>\n",
       "      <th>insurance_benefits</th>\n",
       "      <th>distance</th>\n",
       "    </tr>\n",
       "  </thead>\n",
       "  <tbody>\n",
       "    <tr>\n",
       "      <th>42</th>\n",
       "      <td>1</td>\n",
       "      <td>42</td>\n",
       "      <td>69200.0</td>\n",
       "      <td>0</td>\n",
       "      <td>1</td>\n",
       "      <td>0.0</td>\n",
       "    </tr>\n",
       "    <tr>\n",
       "      <th>4356</th>\n",
       "      <td>0</td>\n",
       "      <td>45</td>\n",
       "      <td>69400.0</td>\n",
       "      <td>1</td>\n",
       "      <td>1</td>\n",
       "      <td>205.0</td>\n",
       "    </tr>\n",
       "    <tr>\n",
       "      <th>3914</th>\n",
       "      <td>0</td>\n",
       "      <td>33</td>\n",
       "      <td>68900.0</td>\n",
       "      <td>1</td>\n",
       "      <td>0</td>\n",
       "      <td>311.0</td>\n",
       "    </tr>\n",
       "    <tr>\n",
       "      <th>2943</th>\n",
       "      <td>1</td>\n",
       "      <td>36</td>\n",
       "      <td>68500.0</td>\n",
       "      <td>1</td>\n",
       "      <td>0</td>\n",
       "      <td>707.0</td>\n",
       "    </tr>\n",
       "    <tr>\n",
       "      <th>3667</th>\n",
       "      <td>1</td>\n",
       "      <td>28</td>\n",
       "      <td>70000.0</td>\n",
       "      <td>2</td>\n",
       "      <td>0</td>\n",
       "      <td>816.0</td>\n",
       "    </tr>\n",
       "    <tr>\n",
       "      <th>2901</th>\n",
       "      <td>0</td>\n",
       "      <td>27</td>\n",
       "      <td>68400.0</td>\n",
       "      <td>0</td>\n",
       "      <td>0</td>\n",
       "      <td>816.0</td>\n",
       "    </tr>\n",
       "    <tr>\n",
       "      <th>2056</th>\n",
       "      <td>1</td>\n",
       "      <td>21</td>\n",
       "      <td>68000.0</td>\n",
       "      <td>2</td>\n",
       "      <td>0</td>\n",
       "      <td>1223.0</td>\n",
       "    </tr>\n",
       "    <tr>\n",
       "      <th>3279</th>\n",
       "      <td>1</td>\n",
       "      <td>50</td>\n",
       "      <td>70500.0</td>\n",
       "      <td>0</td>\n",
       "      <td>2</td>\n",
       "      <td>1308.0</td>\n",
       "    </tr>\n",
       "    <tr>\n",
       "      <th>1863</th>\n",
       "      <td>1</td>\n",
       "      <td>30</td>\n",
       "      <td>70600.0</td>\n",
       "      <td>0</td>\n",
       "      <td>0</td>\n",
       "      <td>1412.0</td>\n",
       "    </tr>\n",
       "    <tr>\n",
       "      <th>424</th>\n",
       "      <td>1</td>\n",
       "      <td>30</td>\n",
       "      <td>67700.0</td>\n",
       "      <td>0</td>\n",
       "      <td>0</td>\n",
       "      <td>1512.0</td>\n",
       "    </tr>\n",
       "    <tr>\n",
       "      <th>3023</th>\n",
       "      <td>1</td>\n",
       "      <td>29</td>\n",
       "      <td>67200.0</td>\n",
       "      <td>1</td>\n",
       "      <td>0</td>\n",
       "      <td>2014.0</td>\n",
       "    </tr>\n",
       "    <tr>\n",
       "      <th>3309</th>\n",
       "      <td>1</td>\n",
       "      <td>28</td>\n",
       "      <td>67100.0</td>\n",
       "      <td>1</td>\n",
       "      <td>0</td>\n",
       "      <td>2115.0</td>\n",
       "    </tr>\n",
       "    <tr>\n",
       "      <th>2160</th>\n",
       "      <td>1</td>\n",
       "      <td>26</td>\n",
       "      <td>71400.0</td>\n",
       "      <td>0</td>\n",
       "      <td>0</td>\n",
       "      <td>2216.0</td>\n",
       "    </tr>\n",
       "    <tr>\n",
       "      <th>3242</th>\n",
       "      <td>0</td>\n",
       "      <td>34</td>\n",
       "      <td>71600.0</td>\n",
       "      <td>2</td>\n",
       "      <td>0</td>\n",
       "      <td>2411.0</td>\n",
       "    </tr>\n",
       "    <tr>\n",
       "      <th>2427</th>\n",
       "      <td>0</td>\n",
       "      <td>25</td>\n",
       "      <td>66300.0</td>\n",
       "      <td>1</td>\n",
       "      <td>0</td>\n",
       "      <td>2919.0</td>\n",
       "    </tr>\n",
       "  </tbody>\n",
       "</table>\n",
       "</div>"
      ],
      "text/plain": [
       "      gender  age   income  family_members  insurance_benefits  distance\n",
       "42         1   42  69200.0               0                   1       0.0\n",
       "4356       0   45  69400.0               1                   1     205.0\n",
       "3914       0   33  68900.0               1                   0     311.0\n",
       "2943       1   36  68500.0               1                   0     707.0\n",
       "3667       1   28  70000.0               2                   0     816.0\n",
       "2901       0   27  68400.0               0                   0     816.0\n",
       "2056       1   21  68000.0               2                   0    1223.0\n",
       "3279       1   50  70500.0               0                   2    1308.0\n",
       "1863       1   30  70600.0               0                   0    1412.0\n",
       "424        1   30  67700.0               0                   0    1512.0\n",
       "3023       1   29  67200.0               1                   0    2014.0\n",
       "3309       1   28  67100.0               1                   0    2115.0\n",
       "2160       1   26  71400.0               0                   0    2216.0\n",
       "3242       0   34  71600.0               2                   0    2411.0\n",
       "2427       0   25  66300.0               1                   0    2919.0"
      ]
     },
     "execution_count": 79,
     "metadata": {},
     "output_type": "execute_result"
    }
   ],
   "source": [
    "score_original_manhattan = get_knn(df, 42, 15, 'manhattan', feature_names)\n",
    "score_original_manhattan"
   ]
  },
  {
   "cell_type": "code",
   "execution_count": null,
   "metadata": {
    "trusted": false
   },
   "outputs": [
    {
     "data": {
      "text/html": [
       "<div>\n",
       "<style scoped>\n",
       "    .dataframe tbody tr th:only-of-type {\n",
       "        vertical-align: middle;\n",
       "    }\n",
       "\n",
       "    .dataframe tbody tr th {\n",
       "        vertical-align: top;\n",
       "    }\n",
       "\n",
       "    .dataframe thead th {\n",
       "        text-align: right;\n",
       "    }\n",
       "</style>\n",
       "<table border=\"1\" class=\"dataframe\">\n",
       "  <thead>\n",
       "    <tr style=\"text-align: right;\">\n",
       "      <th></th>\n",
       "      <th>gender</th>\n",
       "      <th>age</th>\n",
       "      <th>income</th>\n",
       "      <th>family_members</th>\n",
       "      <th>insurance_benefits</th>\n",
       "      <th>distance</th>\n",
       "    </tr>\n",
       "  </thead>\n",
       "  <tbody>\n",
       "    <tr>\n",
       "      <th>42</th>\n",
       "      <td>1</td>\n",
       "      <td>0.646154</td>\n",
       "      <td>0.875949</td>\n",
       "      <td>0.0</td>\n",
       "      <td>1</td>\n",
       "      <td>0.000000</td>\n",
       "    </tr>\n",
       "    <tr>\n",
       "      <th>213</th>\n",
       "      <td>1</td>\n",
       "      <td>0.661538</td>\n",
       "      <td>0.763291</td>\n",
       "      <td>0.0</td>\n",
       "      <td>1</td>\n",
       "      <td>0.128043</td>\n",
       "    </tr>\n",
       "    <tr>\n",
       "      <th>3279</th>\n",
       "      <td>1</td>\n",
       "      <td>0.769231</td>\n",
       "      <td>0.892405</td>\n",
       "      <td>0.0</td>\n",
       "      <td>2</td>\n",
       "      <td>0.139533</td>\n",
       "    </tr>\n",
       "    <tr>\n",
       "      <th>2833</th>\n",
       "      <td>1</td>\n",
       "      <td>0.630769</td>\n",
       "      <td>0.739241</td>\n",
       "      <td>0.0</td>\n",
       "      <td>0</td>\n",
       "      <td>0.152093</td>\n",
       "    </tr>\n",
       "    <tr>\n",
       "      <th>771</th>\n",
       "      <td>1</td>\n",
       "      <td>0.600000</td>\n",
       "      <td>0.758228</td>\n",
       "      <td>0.0</td>\n",
       "      <td>0</td>\n",
       "      <td>0.163875</td>\n",
       "    </tr>\n",
       "  </tbody>\n",
       "</table>\n",
       "</div>"
      ],
      "text/plain": [
       "      gender       age    income  family_members  insurance_benefits  distance\n",
       "42         1  0.646154  0.875949             0.0                   1  0.000000\n",
       "213        1  0.661538  0.763291             0.0                   1  0.128043\n",
       "3279       1  0.769231  0.892405             0.0                   2  0.139533\n",
       "2833       1  0.630769  0.739241             0.0                   0  0.152093\n",
       "771        1  0.600000  0.758228             0.0                   0  0.163875"
      ]
     },
     "execution_count": 80,
     "metadata": {},
     "output_type": "execute_result"
    }
   ],
   "source": [
    "score_scaled_manhattan = get_knn(df_scaled, 42, 5, 'manhattan', feature_names)\n",
    "score_scaled_manhattan"
   ]
  },
  {
   "cell_type": "markdown",
   "metadata": {},
   "source": [
    "**Does the data being not scaled affect the kNN algorithm? If so, how does that appear?** \n",
    "\n",
    "Data that is not scaled will affect the kNN algorithm. The kNN algorithm calculates the distance between entries based on feature values. If some features have significantly different scales—for example, the 'income' feature having a much larger scale than others—they will contribute more to the distance calculation. As a result, the model will give more weight to features with larger scales while potentially ignoring those with smaller scales."
   ]
  },
  {
   "cell_type": "markdown",
   "metadata": {},
   "source": [
    "**How similar are the results using the Manhattan distance metric (regardless of the scaling)?** \n",
    "\n",
    "The results using different distance methods are very similar. I printed the top five vectors for both methods, and while the lists were identical, the order varied slightly due to small differences in distance."
   ]
  },
  {
   "cell_type": "markdown",
   "metadata": {},
   "source": [
    "<div class=\"alert alert-info\" style=\"border-radius: 15px; box-shadow: 4px 4px 4px; border: 1px solid \">\n",
    "<h2>   Comment </h2>\n",
    "    \n",
    "* Manhattan distance is less sensitive to extreme outliers because it adds absolute differences linearly.\n",
    "* Euclidean distance is more sensitive to outliers because it squares differences, giving more weight to large deviations.\n",
    "</div>\n"
   ]
  },
  {
   "cell_type": "markdown",
   "metadata": {},
   "source": [
    "# Is Customer Likely to Receive Insurance Benefit?"
   ]
  },
  {
   "cell_type": "markdown",
   "metadata": {},
   "source": [
    "In terms of machine learning we can look at this like a binary classification task."
   ]
  },
  {
   "cell_type": "markdown",
   "metadata": {},
   "source": [
    "With `insurance_benefits` being more than zero as the target, evaluate whether the kNN classification approach can do better than a dummy model.\n",
    "\n",
    "Instructions:\n",
    "- Build a KNN-based classifier and measure its quality with the F1 metric for k=1..10 for both the original data and the scaled one. That'd be interesting to see how k may influence the evaluation metric, and whether scaling the data makes any difference. You can use a ready implemention of the kNN classification algorithm from scikit-learn (check [the link](https://scikit-learn.org/stable/modules/generated/sklearn.neighbors.KNeighborsClassifier.html)) or use your own.\n",
    "- Build the dummy model which is just random for this case. It should return \"1\" with some probability. Let's test the model with four probability values: 0, the probability of paying any insurance benefit, 0.5, 1.\n",
    "\n",
    "The probability of paying any insurance benefit can be defined as\n",
    "\n",
    "$$\n",
    "P\\{\\text{insurance benefit received}\\}=\\frac{\\text{number of clients received any insurance benefit}}{\\text{total number of clients}}.\n",
    "$$\n",
    "\n",
    "Split the whole data in the 70:30 proportion for the training/testing parts."
   ]
  },
  {
   "cell_type": "code",
   "execution_count": null,
   "metadata": {
    "trusted": false
   },
   "outputs": [
    {
     "data": {
      "text/html": [
       "<div>\n",
       "<style scoped>\n",
       "    .dataframe tbody tr th:only-of-type {\n",
       "        vertical-align: middle;\n",
       "    }\n",
       "\n",
       "    .dataframe tbody tr th {\n",
       "        vertical-align: top;\n",
       "    }\n",
       "\n",
       "    .dataframe thead th {\n",
       "        text-align: right;\n",
       "    }\n",
       "</style>\n",
       "<table border=\"1\" class=\"dataframe\">\n",
       "  <thead>\n",
       "    <tr style=\"text-align: right;\">\n",
       "      <th></th>\n",
       "      <th>gender</th>\n",
       "      <th>age</th>\n",
       "      <th>income</th>\n",
       "      <th>family_members</th>\n",
       "      <th>insurance_benefits</th>\n",
       "      <th>insurance_benefits_received</th>\n",
       "    </tr>\n",
       "  </thead>\n",
       "  <tbody>\n",
       "    <tr>\n",
       "      <th>247</th>\n",
       "      <td>1</td>\n",
       "      <td>41</td>\n",
       "      <td>33800.0</td>\n",
       "      <td>1</td>\n",
       "      <td>0</td>\n",
       "      <td>0</td>\n",
       "    </tr>\n",
       "    <tr>\n",
       "      <th>1383</th>\n",
       "      <td>0</td>\n",
       "      <td>37</td>\n",
       "      <td>21700.0</td>\n",
       "      <td>1</td>\n",
       "      <td>0</td>\n",
       "      <td>0</td>\n",
       "    </tr>\n",
       "    <tr>\n",
       "      <th>282</th>\n",
       "      <td>1</td>\n",
       "      <td>37</td>\n",
       "      <td>45400.0</td>\n",
       "      <td>0</td>\n",
       "      <td>0</td>\n",
       "      <td>0</td>\n",
       "    </tr>\n",
       "    <tr>\n",
       "      <th>3263</th>\n",
       "      <td>1</td>\n",
       "      <td>22</td>\n",
       "      <td>38800.0</td>\n",
       "      <td>4</td>\n",
       "      <td>0</td>\n",
       "      <td>0</td>\n",
       "    </tr>\n",
       "    <tr>\n",
       "      <th>513</th>\n",
       "      <td>1</td>\n",
       "      <td>25</td>\n",
       "      <td>32800.0</td>\n",
       "      <td>3</td>\n",
       "      <td>0</td>\n",
       "      <td>0</td>\n",
       "    </tr>\n",
       "    <tr>\n",
       "      <th>4765</th>\n",
       "      <td>0</td>\n",
       "      <td>19</td>\n",
       "      <td>37700.0</td>\n",
       "      <td>1</td>\n",
       "      <td>0</td>\n",
       "      <td>0</td>\n",
       "    </tr>\n",
       "    <tr>\n",
       "      <th>120</th>\n",
       "      <td>1</td>\n",
       "      <td>24</td>\n",
       "      <td>46400.0</td>\n",
       "      <td>2</td>\n",
       "      <td>0</td>\n",
       "      <td>0</td>\n",
       "    </tr>\n",
       "    <tr>\n",
       "      <th>4394</th>\n",
       "      <td>0</td>\n",
       "      <td>28</td>\n",
       "      <td>48800.0</td>\n",
       "      <td>0</td>\n",
       "      <td>0</td>\n",
       "      <td>0</td>\n",
       "    </tr>\n",
       "    <tr>\n",
       "      <th>389</th>\n",
       "      <td>1</td>\n",
       "      <td>43</td>\n",
       "      <td>46400.0</td>\n",
       "      <td>2</td>\n",
       "      <td>1</td>\n",
       "      <td>1</td>\n",
       "    </tr>\n",
       "    <tr>\n",
       "      <th>3097</th>\n",
       "      <td>0</td>\n",
       "      <td>31</td>\n",
       "      <td>34300.0</td>\n",
       "      <td>2</td>\n",
       "      <td>0</td>\n",
       "      <td>0</td>\n",
       "    </tr>\n",
       "  </tbody>\n",
       "</table>\n",
       "</div>"
      ],
      "text/plain": [
       "      gender  age   income  family_members  insurance_benefits  \\\n",
       "247        1   41  33800.0               1                   0   \n",
       "1383       0   37  21700.0               1                   0   \n",
       "282        1   37  45400.0               0                   0   \n",
       "3263       1   22  38800.0               4                   0   \n",
       "513        1   25  32800.0               3                   0   \n",
       "4765       0   19  37700.0               1                   0   \n",
       "120        1   24  46400.0               2                   0   \n",
       "4394       0   28  48800.0               0                   0   \n",
       "389        1   43  46400.0               2                   1   \n",
       "3097       0   31  34300.0               2                   0   \n",
       "\n",
       "      insurance_benefits_received  \n",
       "247                             0  \n",
       "1383                            0  \n",
       "282                             0  \n",
       "3263                            0  \n",
       "513                             0  \n",
       "4765                            0  \n",
       "120                             0  \n",
       "4394                            0  \n",
       "389                             1  \n",
       "3097                            0  "
      ]
     },
     "execution_count": 81,
     "metadata": {},
     "output_type": "execute_result"
    }
   ],
   "source": [
    "# calculate the target\n",
    "\n",
    "df['insurance_benefits_received'] = df['insurance_benefits'].apply(lambda x: 0 if x == 0 else 1)\n",
    "df.sample(10)"
   ]
  },
  {
   "cell_type": "code",
   "execution_count": null,
   "metadata": {
    "trusted": false
   },
   "outputs": [
    {
     "data": {
      "text/plain": [
       "insurance_benefits_received\n",
       "0    4284\n",
       "1     563\n",
       "Name: count, dtype: int64"
      ]
     },
     "execution_count": 82,
     "metadata": {},
     "output_type": "execute_result"
    }
   ],
   "source": [
    "# checked for the class imbalance\n",
    "df['insurance_benefits_received'].value_counts()"
   ]
  },
  {
   "cell_type": "code",
   "execution_count": null,
   "metadata": {
    "trusted": false
   },
   "outputs": [
    {
     "data": {
      "text/plain": [
       "0.11615432226119249"
      ]
     },
     "execution_count": 83,
     "metadata": {},
     "output_type": "execute_result"
    }
   ],
   "source": [
    "pos_class = df['insurance_benefits_received'].sum() / len(df)\n",
    "pos_class"
   ]
  },
  {
   "cell_type": "markdown",
   "metadata": {},
   "source": [
    "The positive class is 11.6% of the entire dataset."
   ]
  },
  {
   "cell_type": "code",
   "execution_count": null,
   "metadata": {
    "trusted": false
   },
   "outputs": [
    {
     "name": "stderr",
     "output_type": "stream",
     "text": [
      "/var/folders/2c/tfkhfg6d5jj1g3ttv18s3t5r0000gn/T/ipykernel_6990/4287550827.py:10: FutureWarning: Setting an item of incompatible dtype is deprecated and will raise in a future error of pandas. Value '[0.62903226 0.59677419 0.32258065 ... 0.4516129  0.41935484 0.30645161]' has dtype incompatible with int64, please explicitly cast to a compatible dtype first.\n",
      "  data_scaled.loc[:, :] = transformer_mas.transform(data.to_numpy())\n",
      "/var/folders/2c/tfkhfg6d5jj1g3ttv18s3t5r0000gn/T/ipykernel_6990/4287550827.py:10: FutureWarning: Setting an item of incompatible dtype is deprecated and will raise in a future error of pandas. Value '[0.         0.16666667 0.16666667 ... 0.5        0.33333333 0.33333333]' has dtype incompatible with int64, please explicitly cast to a compatible dtype first.\n",
      "  data_scaled.loc[:, :] = transformer_mas.transform(data.to_numpy())\n",
      "/var/folders/2c/tfkhfg6d5jj1g3ttv18s3t5r0000gn/T/ipykernel_6990/4287550827.py:10: FutureWarning: Setting an item of incompatible dtype is deprecated and will raise in a future error of pandas. Value '[0.30645161 0.46774194 0.46774194 ... 0.62903226 0.51612903 0.48387097]' has dtype incompatible with int64, please explicitly cast to a compatible dtype first.\n",
      "  data_scaled.loc[:, :] = transformer_mas.transform(data.to_numpy())\n",
      "/var/folders/2c/tfkhfg6d5jj1g3ttv18s3t5r0000gn/T/ipykernel_6990/4287550827.py:10: FutureWarning: Setting an item of incompatible dtype is deprecated and will raise in a future error of pandas. Value '[0.         0.5        0.         ... 0.5        0.33333333 0.66666667]' has dtype incompatible with int64, please explicitly cast to a compatible dtype first.\n",
      "  data_scaled.loc[:, :] = transformer_mas.transform(data.to_numpy())\n"
     ]
    }
   ],
   "source": [
    "# Splitting the original dataset\n",
    "X = df.drop(['insurance_benefits', 'insurance_benefits_received'], axis=1)\n",
    "y = df[['insurance_benefits_received']]\n",
    "X_train, X_test, y_train, y_test = train_test_split(X, y, test_size=0.3, random_state=42)\n",
    "\n",
    "# Scaling dataset\n",
    "transformer_mas = sklearn.preprocessing.MaxAbsScaler().fit(X_train.to_numpy())\n",
    "def max_abs_scaler(data):\n",
    "    data_scaled = data.copy()\n",
    "    data_scaled.loc[:, :] = transformer_mas.transform(data.to_numpy())\n",
    "    return data_scaled\n",
    "X_train_scaled = max_abs_scaler(X_train)\n",
    "X_test_scaled = max_abs_scaler(X_test)"
   ]
  },
  {
   "cell_type": "code",
   "execution_count": null,
   "metadata": {
    "trusted": false
   },
   "outputs": [],
   "source": [
    "def eval_classifier(y_true, y_pred):\n",
    "    \n",
    "    f1_score = sklearn.metrics.f1_score(y_true, y_pred)\n",
    "    print(f'F1: {f1_score:.2f}')\n",
    "    \n",
    "    cm = sklearn.metrics.confusion_matrix(y_true, y_pred, normalize='all')\n",
    "    print('Confusion Matrix')\n",
    "    print(cm)"
   ]
  },
  {
   "cell_type": "code",
   "execution_count": null,
   "metadata": {
    "trusted": false
   },
   "outputs": [],
   "source": [
    "# generating output of a random model\n",
    "\n",
    "def rnd_model_predict(P, size, seed=42):\n",
    "\n",
    "    rng = np.random.default_rng(seed=seed)\n",
    "    return rng.binomial(n=1, p=P, size=size)"
   ]
  },
  {
   "cell_type": "code",
   "execution_count": null,
   "metadata": {
    "trusted": false
   },
   "outputs": [
    {
     "name": "stdout",
     "output_type": "stream",
     "text": [
      "The probability: 0.00\n",
      "F1: 0.00\n",
      "Confusion Matrix\n",
      "[[0.88384568 0.        ]\n",
      " [0.11615432 0.        ]]\n",
      "\n",
      "The probability: 0.12\n",
      "F1: 0.13\n",
      "Confusion Matrix\n",
      "[[0.78502166 0.09882401]\n",
      " [0.1017124  0.01444192]]\n",
      "\n",
      "The probability: 0.50\n",
      "F1: 0.19\n",
      "Confusion Matrix\n",
      "[[0.44873117 0.4351145 ]\n",
      " [0.05921188 0.05694244]]\n",
      "\n",
      "The probability: 1.00\n",
      "F1: 0.21\n",
      "Confusion Matrix\n",
      "[[0.         0.88384568]\n",
      " [0.         0.11615432]]\n",
      "\n"
     ]
    }
   ],
   "source": [
    "for P in [0, pos_class, 0.5, 1]:\n",
    "\n",
    "    print(f'The probability: {P:.2f}')\n",
    "    y_pred_rnd = rnd_model_predict(P, df.shape[0])  \n",
    "        \n",
    "    eval_classifier(df['insurance_benefits_received'], y_pred_rnd)\n",
    "    \n",
    "    print()"
   ]
  },
  {
   "cell_type": "code",
   "execution_count": null,
   "metadata": {
    "trusted": false
   },
   "outputs": [],
   "source": [
    "# Trained and evaluated the KNN model:\n",
    "def knn_train_eval(X_train, y_train, X_test):\n",
    "    y_train = np.ravel(y_train)\n",
    "    for i in range(1, 11):\n",
    "        print(\"K = \", i)\n",
    "        knn = KNeighborsClassifier(n_neighbors=i, metric='euclidean')\n",
    "        knn.fit(X_train, y_train)\n",
    "        y_pred = knn.predict(X_test)\n",
    "        eval_classifier(y_test, y_pred)\n",
    "        print('-------------------')\n",
    "        print()"
   ]
  },
  {
   "cell_type": "markdown",
   "metadata": {},
   "source": [
    "Original Data"
   ]
  },
  {
   "cell_type": "code",
   "execution_count": null,
   "metadata": {
    "trusted": false
   },
   "outputs": [
    {
     "name": "stdout",
     "output_type": "stream",
     "text": [
      "K =  1\n",
      "F1: 0.66\n",
      "Confusion Matrix\n",
      "[[0.86735395 0.02405498]\n",
      " [0.04329897 0.0652921 ]]\n",
      "-------------------\n",
      "\n",
      "K =  2\n",
      "F1: 0.47\n",
      "Confusion Matrix\n",
      "[[0.88522337 0.00618557]\n",
      " [0.07353952 0.03505155]]\n",
      "-------------------\n",
      "\n",
      "K =  3\n",
      "F1: 0.45\n",
      "Confusion Matrix\n",
      "[[0.87353952 0.01786942]\n",
      " [0.07147766 0.0371134 ]]\n",
      "-------------------\n",
      "\n",
      "K =  4\n",
      "F1: 0.16\n",
      "Confusion Matrix\n",
      "[[0.88934708 0.00206186]\n",
      " [0.09896907 0.00962199]]\n",
      "-------------------\n",
      "\n",
      "K =  5\n",
      "F1: 0.17\n",
      "Confusion Matrix\n",
      "[[0.88659794 0.004811  ]\n",
      " [0.09828179 0.01030928]]\n",
      "-------------------\n",
      "\n",
      "K =  6\n",
      "F1: 0.08\n",
      "Confusion Matrix\n",
      "[[8.90721649e-01 6.87285223e-04]\n",
      " [1.03780069e-01 4.81099656e-03]]\n",
      "-------------------\n",
      "\n",
      "K =  7\n",
      "F1: 0.10\n",
      "Confusion Matrix\n",
      "[[8.90721649e-01 6.87285223e-04]\n",
      " [1.03092784e-01 5.49828179e-03]]\n",
      "-------------------\n",
      "\n",
      "K =  8\n",
      "F1: 0.03\n",
      "Confusion Matrix\n",
      "[[0.89140893 0.        ]\n",
      " [0.10721649 0.00137457]]\n",
      "-------------------\n",
      "\n",
      "K =  9\n",
      "F1: 0.04\n",
      "Confusion Matrix\n",
      "[[0.89140893 0.        ]\n",
      " [0.10652921 0.00206186]]\n",
      "-------------------\n",
      "\n",
      "K =  10\n",
      "F1: 0.03\n",
      "Confusion Matrix\n",
      "[[0.89140893 0.        ]\n",
      " [0.10721649 0.00137457]]\n",
      "-------------------\n",
      "\n"
     ]
    }
   ],
   "source": [
    "knn_train_eval(X_train, y_train, X_test)"
   ]
  },
  {
   "cell_type": "markdown",
   "metadata": {},
   "source": [
    "Scaled Data"
   ]
  },
  {
   "cell_type": "code",
   "execution_count": null,
   "metadata": {
    "trusted": false
   },
   "outputs": [
    {
     "name": "stdout",
     "output_type": "stream",
     "text": [
      "K =  1\n",
      "F1: 0.95\n",
      "Confusion Matrix\n",
      "[[0.88453608 0.00687285]\n",
      " [0.004811   0.10378007]]\n",
      "-------------------\n",
      "\n",
      "K =  2\n",
      "F1: 0.95\n",
      "Confusion Matrix\n",
      "[[8.90721649e-01 6.87285223e-04]\n",
      " [9.62199313e-03 9.89690722e-02]]\n",
      "-------------------\n",
      "\n",
      "K =  3\n",
      "F1: 0.95\n",
      "Confusion Matrix\n",
      "[[0.88728522 0.00412371]\n",
      " [0.00618557 0.1024055 ]]\n",
      "-------------------\n",
      "\n",
      "K =  4\n",
      "F1: 0.94\n",
      "Confusion Matrix\n",
      "[[0.89003436 0.00137457]\n",
      " [0.01099656 0.0975945 ]]\n",
      "-------------------\n",
      "\n",
      "K =  5\n",
      "F1: 0.95\n",
      "Confusion Matrix\n",
      "[[0.88728522 0.00412371]\n",
      " [0.00687285 0.10171821]]\n",
      "-------------------\n",
      "\n",
      "K =  6\n",
      "F1: 0.94\n",
      "Confusion Matrix\n",
      "[[0.88934708 0.00206186]\n",
      " [0.01030928 0.09828179]]\n",
      "-------------------\n",
      "\n",
      "K =  7\n",
      "F1: 0.96\n",
      "Confusion Matrix\n",
      "[[0.88797251 0.00343643]\n",
      " [0.00618557 0.1024055 ]]\n",
      "-------------------\n",
      "\n",
      "K =  8\n",
      "F1: 0.94\n",
      "Confusion Matrix\n",
      "[[0.89003436 0.00137457]\n",
      " [0.01030928 0.09828179]]\n",
      "-------------------\n",
      "\n",
      "K =  9\n",
      "F1: 0.94\n",
      "Confusion Matrix\n",
      "[[0.88797251 0.00343643]\n",
      " [0.00824742 0.10034364]]\n",
      "-------------------\n",
      "\n",
      "K =  10\n",
      "F1: 0.95\n",
      "Confusion Matrix\n",
      "[[8.90721649e-01 6.87285223e-04]\n",
      " [1.03092784e-02 9.82817869e-02]]\n",
      "-------------------\n",
      "\n"
     ]
    }
   ],
   "source": [
    "knn_train_eval(X_train_scaled, y_train, X_test_scaled)"
   ]
  },
  {
   "cell_type": "markdown",
   "metadata": {},
   "source": [
    "For the dummy model, which assigns predictions of 1 with certain probabilities, the best F1 score is 0.21 when all predicted values are set to 1.\n",
    "\n",
    "I applied the KNN classifier with K ranging from 1 to 10.\n",
    "\n",
    "Without feature scaling, the highest F1 score is 0.66 when K = 1. However, as K increases, the F1 score gradually decreases. When K ≥ 4, the F1 score drops below that of the dummy model (0.0 - 0.21).\n",
    "\n",
    "After scaling the features, the results become more stable. Regardless of the K value, the F1 score remains between 0.94 and 0.96. The best score of 0.96 is achieved when K = 7."
   ]
  },
  {
   "cell_type": "markdown",
   "metadata": {},
   "source": [
    "# Regression (with Linear Regression)"
   ]
  },
  {
   "cell_type": "markdown",
   "metadata": {},
   "source": [
    "With `insurance_benefits` as the target, evaluate what RMSE would be for a Linear Regression model."
   ]
  },
  {
   "cell_type": "markdown",
   "metadata": {},
   "source": [
    "Build your own implementation of LR. For that, recall how the linear regression task's solution is formulated in terms of LA. Check RMSE for both the original data and the scaled one. Can you see any difference in RMSE between these two cases?\n",
    "\n",
    "Let's denote\n",
    "- $X$ — feature matrix, each row is a case, each column is a feature, the first column consists of unities\n",
    "- $y$ — target (a vector)\n",
    "- $\\hat{y}$ — estimated tagret (a vector)\n",
    "- $w$ — weight vector\n",
    "\n",
    "The task of linear regression in the language of matrices can be formulated as\n",
    "\n",
    "$$\n",
    "y = Xw\n",
    "$$\n",
    "\n",
    "The training objective then is to find such $w$ that it would minimize the L2-distance (MSE) between $Xw$ and $y$:\n",
    "\n",
    "$$\n",
    "\\min_w d_2(Xw, y) \\quad \\text{or} \\quad \\min_w \\text{MSE}(Xw, y)\n",
    "$$\n",
    "\n",
    "It appears that there is analytical solution for the above:\n",
    "\n",
    "$$\n",
    "w = (X^T X)^{-1} X^T y\n",
    "$$\n",
    "\n",
    "The formula above can be used to find the weights $w$ and the latter can be used to calculate predicted values\n",
    "\n",
    "$$\n",
    "\\hat{y} = X_{val}w\n",
    "$$"
   ]
  },
  {
   "cell_type": "markdown",
   "metadata": {},
   "source": [
    "I will split the whole data in the 70:30 proportion for the training/validation parts and use the RMSE metric for the model evaluation."
   ]
  },
  {
   "cell_type": "code",
   "execution_count": null,
   "metadata": {
    "trusted": false
   },
   "outputs": [],
   "source": [
    "class MyLinearRegression:\n",
    "    \n",
    "    def __init__(self):\n",
    "        \n",
    "        self.weights = None\n",
    "    \n",
    "    def fit(self, X, y):\n",
    "        \n",
    "        # adding the unities\n",
    "        X2 = np.append(np.ones([len(X), 1]), X, axis=1)\n",
    "        self.weights = np.linalg.inv(np.dot(X2.T, X2)).dot(X2.T).dot(y)\n",
    "\n",
    "    def predict(self, X):\n",
    "        \n",
    "        # adding the unities\n",
    "        X2 = np.append(np.ones([len(X), 1]), X, axis=1)\n",
    "        y_pred = X2.dot(self.weights)\n",
    "            \n",
    "        return y_pred"
   ]
  },
  {
   "cell_type": "code",
   "execution_count": null,
   "metadata": {
    "trusted": false
   },
   "outputs": [],
   "source": [
    "def eval_regressor(y_true, y_pred):\n",
    "    \n",
    "    rmse = math.sqrt(sklearn.metrics.mean_squared_error(y_true, y_pred))\n",
    "    print(f'RMSE: {rmse:.2f}')\n",
    "    \n",
    "    r2_score = math.sqrt(sklearn.metrics.r2_score(y_true, y_pred))\n",
    "    print(f'R2: {r2_score:.2f}')    "
   ]
  },
  {
   "cell_type": "code",
   "execution_count": null,
   "metadata": {
    "trusted": false
   },
   "outputs": [],
   "source": [
    "X = df[['age', 'gender', 'income', 'family_members']].to_numpy()\n",
    "y = df['insurance_benefits'].to_numpy()\n",
    "\n",
    "X_train, X_test, y_train, y_test = train_test_split(X, y, test_size=0.3, random_state=42)"
   ]
  },
  {
   "cell_type": "markdown",
   "metadata": {},
   "source": [
    "Original"
   ]
  },
  {
   "cell_type": "code",
   "execution_count": null,
   "metadata": {
    "trusted": false
   },
   "outputs": [
    {
     "name": "stdout",
     "output_type": "stream",
     "text": [
      "[-9.54087854e-01  3.58373221e-02  8.48333599e-04  2.61002372e-07\n",
      " -1.61481354e-02]\n",
      "RMSE: 0.36\n",
      "R2: 0.66\n"
     ]
    }
   ],
   "source": [
    "lr = MyLinearRegression()\n",
    "lr.fit(X_train, y_train)\n",
    "print(lr.weights)\n",
    "y_test_pred = lr.predict(X_test)\n",
    "eval_regressor(y_test, y_test_pred)"
   ]
  },
  {
   "cell_type": "markdown",
   "metadata": {},
   "source": [
    "Scaled"
   ]
  },
  {
   "cell_type": "code",
   "execution_count": null,
   "metadata": {
    "trusted": false
   },
   "outputs": [
    {
     "name": "stdout",
     "output_type": "stream",
     "text": [
      "[-9.54087854e-01  8.48333599e-04  2.22191397e+00  2.06191874e-02\n",
      " -9.68888122e-02]\n",
      "RMSE: 0.36\n",
      "R2: 0.66\n"
     ]
    }
   ],
   "source": [
    "lr_scaled = MyLinearRegression()\n",
    "lr_scaled.fit(X_train_scaled, y_train)\n",
    "print(lr_scaled.weights)\n",
    "scaled_y_test_pred = lr_scaled.predict(X_test_scaled)\n",
    "eval_regressor(y_test, scaled_y_test_pred)"
   ]
  },
  {
   "cell_type": "markdown",
   "metadata": {},
   "source": [
    "In this task, I implemented Linear Regression based on the objective function. Two types of datasets—the original and the scaled—were fed into the model.\n",
    "\n",
    "The results from both datasets were similar. While the parameter matrices differed (with identical intercepts), the RMSE and R² values were nearly the same. This suggests that for a Linear Regression model based on the objective function, scaling the numeric features does not impact the predictive results."
   ]
  },
  {
   "cell_type": "markdown",
   "metadata": {},
   "source": [
    "# Obfuscating Data"
   ]
  },
  {
   "cell_type": "markdown",
   "metadata": {},
   "source": [
    "It best to obfuscate data by multiplying the numerical features (remember, they can be seen as the matrix $X$) by an invertible matrix $P$. \n",
    "\n",
    "$$\n",
    "X' = X \\times P\n",
    "$$\n",
    "\n",
    "Try to do that and check how the features' values will look like after the transformation. By the way, the intertible property is important here so make sure that $P$ is indeed invertible.\n",
    "\n",
    "You may want to review the 'Matrices and Matrix Operations -> Matrix Multiplication' lesson to recall the rule of matrix multiplication and its implementation with NumPy."
   ]
  },
  {
   "cell_type": "code",
   "execution_count": null,
   "metadata": {
    "trusted": false
   },
   "outputs": [],
   "source": [
    "personal_info_column_list = ['gender', 'age', 'income', 'family_members']\n",
    "df_pn = df[personal_info_column_list]"
   ]
  },
  {
   "cell_type": "code",
   "execution_count": null,
   "metadata": {
    "trusted": false
   },
   "outputs": [],
   "source": [
    "X = df_pn.to_numpy()"
   ]
  },
  {
   "cell_type": "markdown",
   "metadata": {},
   "source": [
    "Generating a random matrix $P$."
   ]
  },
  {
   "cell_type": "code",
   "execution_count": null,
   "metadata": {
    "trusted": false
   },
   "outputs": [],
   "source": [
    "rng = np.random.default_rng(seed=42)\n",
    "P = rng.random(size=(X.shape[1], X.shape[1]))"
   ]
  },
  {
   "cell_type": "markdown",
   "metadata": {},
   "source": [
    "Checking the matrix $P$ is invertible"
   ]
  },
  {
   "cell_type": "code",
   "execution_count": null,
   "metadata": {
    "trusted": false
   },
   "outputs": [
    {
     "name": "stdout",
     "output_type": "stream",
     "text": [
      "The matrix is invertible\n"
     ]
    }
   ],
   "source": [
    "# Using try/except to seek error\n",
    "try:\n",
    "    inv = np.linalg.inv(P)\n",
    "    print('The matrix is invertible')\n",
    "except np.linalg.LinAlgError:\n",
    "    print(\"The matrix P isn't invertible\")"
   ]
  },
  {
   "cell_type": "markdown",
   "metadata": {},
   "source": [
    "Guessing the customers' ages or income after the transformation"
   ]
  },
  {
   "cell_type": "code",
   "execution_count": null,
   "metadata": {
    "trusted": false
   },
   "outputs": [
    {
     "data": {
      "text/plain": [
       "array([[ 6359.71527314, 22380.40467609, 18424.09074184, 46000.69669016],\n",
       "       [ 4873.29406479, 17160.36702982, 14125.78076133, 35253.45577301],\n",
       "       [ 2693.11742928,  9486.397744  ,  7808.83156024, 19484.86063067],\n",
       "       ...,\n",
       "       [ 4346.2234249 , 15289.24126492, 12586.16264392, 31433.50888552],\n",
       "       [ 4194.09324155, 14751.9910242 , 12144.02930637, 30323.88763426],\n",
       "       [ 5205.46827354, 18314.24814446, 15077.01370762, 37649.59295455]])"
      ]
     },
     "execution_count": 100,
     "metadata": {},
     "output_type": "execute_result"
    }
   ],
   "source": [
    "X_guess = X @ P\n",
    "X_guess"
   ]
  },
  {
   "cell_type": "markdown",
   "metadata": {},
   "source": [
    "The new matrix consists of meaningless numbers, it can't be guess only from numbers"
   ]
  },
  {
   "cell_type": "markdown",
   "metadata": {},
   "source": [
    "Can you recover the original data from $X'$ if you know $P$? Try to check that with calculations by moving $P$ from the right side of the formula above to the left one. The rules of matrix multiplcation are really helpful here."
   ]
  },
  {
   "cell_type": "code",
   "execution_count": null,
   "metadata": {
    "trusted": false
   },
   "outputs": [
    {
     "data": {
      "text/plain": [
       "array([[1.00000000e+00, 4.10000000e+01, 4.96000000e+04, 1.00000000e+00],\n",
       "       [1.64503537e-12, 4.60000000e+01, 3.80000000e+04, 1.00000000e+00],\n",
       "       [9.25561194e-13, 2.90000000e+01, 2.10000000e+04, 1.41940791e-12],\n",
       "       ...,\n",
       "       [3.87221815e-12, 2.00000000e+01, 3.39000000e+04, 2.00000000e+00],\n",
       "       [1.00000000e+00, 2.20000000e+01, 3.27000000e+04, 3.00000000e+00],\n",
       "       [1.00000000e+00, 2.80000000e+01, 4.06000000e+04, 1.00000000e+00]])"
      ]
     },
     "execution_count": 101,
     "metadata": {},
     "output_type": "execute_result"
    }
   ],
   "source": [
    "X_original = X_guess @ np.linalg.inv(P)\n",
    "X_original"
   ]
  },
  {
   "cell_type": "code",
   "execution_count": null,
   "metadata": {
    "trusted": false
   },
   "outputs": [
    {
     "name": "stdout",
     "output_type": "stream",
     "text": [
      "False\n"
     ]
    }
   ],
   "source": [
    "print(np.array_equal(X, X_original))"
   ]
  },
  {
   "cell_type": "markdown",
   "metadata": {},
   "source": [
    "Print all three cases for a few customers\n",
    "- The original data\n",
    "- The transformed one\n",
    "- The reversed (recovered) one"
   ]
  },
  {
   "cell_type": "code",
   "execution_count": null,
   "metadata": {
    "trusted": false
   },
   "outputs": [
    {
     "name": "stdout",
     "output_type": "stream",
     "text": [
      "The orginal matrix:\n",
      "      [[1.00e+00 4.10e+01 4.96e+04 1.00e+00]\n",
      " [0.00e+00 4.60e+01 3.80e+04 1.00e+00]\n",
      " [0.00e+00 2.90e+01 2.10e+04 0.00e+00]\n",
      " [0.00e+00 2.10e+01 4.17e+04 2.00e+00]\n",
      " [1.00e+00 2.80e+01 2.61e+04 0.00e+00]].\n",
      "      \n",
      "The transformed matrix:\n",
      "      [[ 6359.71527314 22380.40467609 18424.09074184 46000.69669016]\n",
      " [ 4873.29406479 17160.36702982 14125.78076133 35253.45577301]\n",
      " [ 2693.11742928  9486.397744    7808.83156024 19484.86063067]\n",
      " [ 5345.60393712 18803.22720286 15479.14837264 38663.06186284]\n",
      " [ 3347.17673462 11782.82928336  9699.99894205 24211.27337753]].\n",
      "      \n",
      "The reversed matrix:\n",
      "      [[ 1.00000000e+00  4.10000000e+01  4.96000000e+04  1.00000000e+00]\n",
      " [ 1.64503537e-12  4.60000000e+01  3.80000000e+04  1.00000000e+00]\n",
      " [ 9.25561194e-13  2.90000000e+01  2.10000000e+04  1.41940791e-12]\n",
      " [-1.62563547e-12  2.10000000e+01  4.17000000e+04  2.00000000e+00]\n",
      " [ 1.00000000e+00  2.80000000e+01  2.61000000e+04  4.91751442e-13]]\n",
      "      \n"
     ]
    }
   ],
   "source": [
    "print(f\"\"\"The orginal matrix:\n",
    "      {X[:5, :]}.\n",
    "      \n",
    "The transformed matrix:\n",
    "      {X_guess[:5, :]}.\n",
    "      \n",
    "The reversed matrix:\n",
    "      {X_original[:5, :]}\n",
    "      \"\"\")"
   ]
  },
  {
   "cell_type": "markdown",
   "metadata": {},
   "source": [
    "You can probably see that some values are not exactly the same as they are in the original data. What might be the reason for that?"
   ]
  },
  {
   "cell_type": "markdown",
   "metadata": {},
   "source": [
    "When we calculate float numbers with Python or Numpy, some extremely small numbers may appear rather than 0 due to precision."
   ]
  },
  {
   "cell_type": "markdown",
   "metadata": {},
   "source": [
    "## Proof That Data Obfuscation Can Work with LR"
   ]
  },
  {
   "cell_type": "markdown",
   "metadata": {},
   "source": [
    "The regression task has been solved with linear regression in this project. Your next task is to prove _analytically_ that the given obfuscation method won't affect linear regression in terms of predicted values i.e. their values will remain the same. Can you believe that? Well, you don't have to, you should prove it!"
   ]
  },
  {
   "cell_type": "markdown",
   "metadata": {},
   "source": [
    "So, the data is obfuscated and there is $X \\times P$ instead of just $X$ now. Consequently, there are other weights $w_P$ as\n",
    "$$\n",
    "w = (X^T X)^{-1} X^T y \\quad \\Rightarrow \\quad w_P = [(XP)^T XP]^{-1} (XP)^T y\n",
    "$$\n",
    "\n",
    "How would $w$ and $w_P$ be linked if you simplify the formula for $w_P$ above? \n",
    "\n",
    "What would be predicted values with $w_P$? \n",
    "\n",
    "What does that mean for the quality of linear regression if you measure it with RMSE?\n",
    "\n",
    "Check Appendix B Properties of Matrices in the end of the notebook. There are useful formulas in there!\n",
    "\n",
    "No code is necessary in this section, only analytical explanation!"
   ]
  },
  {
   "cell_type": "markdown",
   "metadata": {},
   "source": [
    "**Answer**"
   ]
  },
  {
   "cell_type": "markdown",
   "metadata": {},
   "source": [
    "We already know that the matrix $P$ and $X^TX$ are invertible, and $(P^T)^{-1}P^T = I$. Therefore, the formula:\n",
    "\n",
    "$$w_P=[(XP)^TXP]^{-1}(XP)^Ty=[P^TX^TXP]^{-1}P^TX^Ty=P^{-1}(X^TX)^{-1}(P^T)^{-1}P^TX^Ty=P^{-1}(X^TX)^{-1}X^Ty=P^{-1}w$$"
   ]
  },
  {
   "cell_type": "markdown",
   "metadata": {},
   "source": [
    "This equation shows how the obfuscation affects the weights."
   ]
  },
  {
   "cell_type": "markdown",
   "metadata": {},
   "source": [
    "Predicted values in linear regression are given by:\n",
    "\n",
    "$$\\hat{y} = Xw $$\n",
    "\n",
    "For the obfuscated model, the predicted values are:\n",
    "\n",
    "$$\\hat{y}_P = (XP)w_P $$\n",
    "\n",
    "Substituting $w_P = {P}^{-1}w$:\n",
    "\n",
    "$$ \\hat{y}_P = (XP)({P}^{-1}w) $$\n",
    "\n",
    "Since $PP^{-1} = I$, this simplifies to:\n",
    "\n",
    "$$ \\hat{y}_P = Xw = \\hat{y} $$\n",
    "\n",
    "This proves that the obfuscation doesn not change the predicted values."
   ]
  },
  {
   "cell_type": "markdown",
   "metadata": {},
   "source": [
    "**Analytical proof**"
   ]
  },
  {
   "cell_type": "markdown",
   "metadata": {},
   "source": [
    "From the formula we can see that the parameter matrix  is a linear transform of original matrix  based on the matrix P.\n",
    "\n",
    "We can use the formula to proof it. However, no matter how the parameter matrix change, the predictions won't change as well, therefore the RMSE and R2 metrics won't change either."
   ]
  },
  {
   "cell_type": "markdown",
   "metadata": {},
   "source": [
    "## Test Linear Regression With Data Obfuscation"
   ]
  },
  {
   "cell_type": "markdown",
   "metadata": {},
   "source": [
    "Now, let's prove Linear Regression can work computationally with the chosen obfuscation transformation.\n",
    "\n",
    "Build a procedure or a class that runs Linear Regression optionally with the obfuscation. You can use either a ready implementation of Linear Regression from sciki-learn or your own.\n",
    "\n",
    "Run Linear Regression for the original data and the obfuscated one, compare the predicted values and the RMSE, $R^2$ metric values. Is there any difference?"
   ]
  },
  {
   "cell_type": "markdown",
   "metadata": {},
   "source": [
    "**Procedure**\n",
    "\n",
    "- Create a square matrix $P$ of random numbers.\n",
    "- Check that it is invertible. If not, repeat the first point until we get an invertible matrix.\n",
    "- Use $XP$ as the new feature matrix and modify the linear regression formula\n",
    "- Train and evaluate the model with RMSE"
   ]
  },
  {
   "cell_type": "code",
   "execution_count": null,
   "metadata": {
    "trusted": false
   },
   "outputs": [
    {
     "name": "stdout",
     "output_type": "stream",
     "text": [
      "The matrix P is invertible\n"
     ]
    }
   ],
   "source": [
    "rng = np.random.default_rng(seed=42)\n",
    "P = rng.random(size=(X.shape[1], X.shape[1]))\n",
    "try:\n",
    "    inv = np.linalg.inv(P)\n",
    "    print(\"The matrix P is invertible\")\n",
    "except np.linalg.LinAlgError:\n",
    "    print(\"The matrix P isn't invertible\")"
   ]
  },
  {
   "cell_type": "markdown",
   "metadata": {},
   "source": [
    "<div class=\"alert alert-info\" style=\"border-radius: 15px; box-shadow: 4px 4px 4px; border: 1px solid \">\n",
    "<h2>   Comment </h2>\n",
    "    \n",
    "Since the matrix $P$ is invertible, it means that the randomly generated matrix $P$ is non-singular, meaning it has full rank and a nonzero determinant, so its inverse exists.\n",
    "</div>"
   ]
  },
  {
   "cell_type": "code",
   "execution_count": null,
   "metadata": {
    "trusted": false
   },
   "outputs": [],
   "source": [
    "class MyLinearRegression:\n",
    "    \n",
    "    def __init__(self):\n",
    "        \n",
    "        self.weights = None\n",
    "    \n",
    "    def fit(self, X, y):\n",
    "        \n",
    "        # adding the unities\n",
    "        X = X.dot(P)\n",
    "        X2 = np.append(np.ones([len(X), 1]), X, axis=1)\n",
    "        self.weights = np.linalg.inv(np.dot(X2.T, X2)).dot(X2.T).dot(y)\n",
    "\n",
    "    def predict(self, X):\n",
    "        \n",
    "        # adding the unities\n",
    "        X = X.dot(P)\n",
    "        X2 = np.append(np.ones([len(X), 1]), X, axis=1)\n",
    "        y_pred = X2.dot(self.weights)\n",
    "        \n",
    "        return y_pred"
   ]
  },
  {
   "cell_type": "code",
   "execution_count": null,
   "metadata": {
    "scrolled": true,
    "trusted": false
   },
   "outputs": [
    {
     "name": "stdout",
     "output_type": "stream",
     "text": [
      "RMSE: 0.36\n",
      "R2: 0.66\n"
     ]
    }
   ],
   "source": [
    "eval_regressor(y_test, y_test_pred)"
   ]
  },
  {
   "cell_type": "code",
   "execution_count": null,
   "metadata": {
    "trusted": false
   },
   "outputs": [
    {
     "name": "stdout",
     "output_type": "stream",
     "text": [
      "RMSE: 0.36\n",
      "R2: 0.66\n"
     ]
    }
   ],
   "source": [
    "eval_regressor(y_test, scaled_y_test_pred)"
   ]
  },
  {
   "cell_type": "markdown",
   "metadata": {},
   "source": [
    "The results from the real data prove that the prediction results won't change by data obfuscation"
   ]
  },
  {
   "cell_type": "markdown",
   "metadata": {},
   "source": [
    "# Conclusion"
   ]
  },
  {
   "cell_type": "markdown",
   "metadata": {},
   "source": [
    "In this project, I implemented a KNN classification model and a custom linear regression model on the dataset.\n",
    "\n",
    "With the KNN approach, we can not only identify similar vectors based on a given input but also perform classification. The prediction results are influenced by the choice of the hyperparameter \n",
    "K\n",
    "K, but in classification, whether the data has been scaled plays a more significant role.\n",
    "\n",
    "For regression, however, feature scaling appears to have less impact compared to classification. I also tested two models using different distance metrics, but their results were nearly identical.\n",
    "\n",
    "Additionally, to protect customer privacy, it is essential to anonymize personal information. One method involves multiplying the data by an invertible matrix to obfuscate the original values. While this transformation alters the parameter matrix, it does not affect prediction results, RMSE, or R² metrics."
   ]
  }
 ],
 "metadata": {
  "ExecuteTimeLog": [
   {
    "duration": 2865,
    "start_time": "2025-02-08T19:08:45.203Z"
   },
   {
    "duration": 15,
    "start_time": "2025-02-08T19:08:48.071Z"
   },
   {
    "duration": 2,
    "start_time": "2025-02-08T19:08:48.087Z"
   },
   {
    "duration": 3,
    "start_time": "2025-02-08T19:08:48.091Z"
   },
   {
    "duration": 9,
    "start_time": "2025-02-08T19:08:48.097Z"
   },
   {
    "duration": 8,
    "start_time": "2025-02-08T19:08:48.108Z"
   },
   {
    "duration": 3,
    "start_time": "2025-02-08T19:08:48.118Z"
   },
   {
    "duration": 7,
    "start_time": "2025-02-08T19:08:48.143Z"
   },
   {
    "duration": 16,
    "start_time": "2025-02-08T19:08:48.152Z"
   },
   {
    "duration": 5,
    "start_time": "2025-02-08T19:08:48.170Z"
   },
   {
    "duration": 4,
    "start_time": "2025-02-08T19:08:48.176Z"
   },
   {
    "duration": 8,
    "start_time": "2025-02-08T19:08:48.182Z"
   },
   {
    "duration": 2556,
    "start_time": "2025-02-08T19:08:48.191Z"
   },
   {
    "duration": 3,
    "start_time": "2025-02-08T19:08:50.752Z"
   },
   {
    "duration": 5,
    "start_time": "2025-02-08T19:08:50.758Z"
   },
   {
    "duration": 10,
    "start_time": "2025-02-08T19:08:50.765Z"
   },
   {
    "duration": 7,
    "start_time": "2025-02-08T19:08:50.778Z"
   },
   {
    "duration": 15,
    "start_time": "2025-02-08T19:08:50.788Z"
   },
   {
    "duration": 54,
    "start_time": "2025-02-08T19:08:50.805Z"
   },
   {
    "duration": 15,
    "start_time": "2025-02-08T19:08:50.861Z"
   },
   {
    "duration": 21,
    "start_time": "2025-02-08T19:08:50.877Z"
   },
   {
    "duration": 10,
    "start_time": "2025-02-08T19:08:50.899Z"
   },
   {
    "duration": 5,
    "start_time": "2025-02-08T19:08:50.910Z"
   },
   {
    "duration": 7,
    "start_time": "2025-02-08T19:08:50.943Z"
   },
   {
    "duration": 11,
    "start_time": "2025-02-08T19:08:50.952Z"
   },
   {
    "duration": 3,
    "start_time": "2025-02-08T19:08:50.964Z"
   },
   {
    "duration": 3,
    "start_time": "2025-02-08T19:08:50.969Z"
   },
   {
    "duration": 18,
    "start_time": "2025-02-08T19:08:50.974Z"
   },
   {
    "duration": 4,
    "start_time": "2025-02-08T19:08:50.994Z"
   },
   {
    "duration": 330,
    "start_time": "2025-02-08T19:08:51.000Z"
   },
   {
    "duration": 427,
    "start_time": "2025-02-08T19:08:51.332Z"
   },
   {
    "duration": 4,
    "start_time": "2025-02-08T19:08:51.761Z"
   },
   {
    "duration": 3,
    "start_time": "2025-02-08T19:08:51.767Z"
   },
   {
    "duration": 5,
    "start_time": "2025-02-08T19:08:51.771Z"
   },
   {
    "duration": 6,
    "start_time": "2025-02-08T19:08:51.777Z"
   },
   {
    "duration": 6,
    "start_time": "2025-02-08T19:08:51.784Z"
   },
   {
    "duration": 54,
    "start_time": "2025-02-08T19:08:51.791Z"
   },
   {
    "duration": 4,
    "start_time": "2025-02-08T19:08:51.847Z"
   },
   {
    "duration": 5,
    "start_time": "2025-02-08T19:08:51.852Z"
   },
   {
    "duration": 6,
    "start_time": "2025-02-08T19:08:51.858Z"
   },
   {
    "duration": 7,
    "start_time": "2025-02-08T19:08:51.869Z"
   },
   {
    "duration": 6,
    "start_time": "2025-02-08T19:08:51.943Z"
   },
   {
    "duration": 3,
    "start_time": "2025-02-08T19:08:51.951Z"
   },
   {
    "duration": 7,
    "start_time": "2025-02-08T19:08:51.955Z"
   },
   {
    "duration": 8,
    "start_time": "2025-02-08T19:08:51.964Z"
   },
   {
    "duration": 75,
    "start_time": "2025-02-08T19:08:51.974Z"
   },
   {
    "duration": 16,
    "start_time": "2025-02-08T19:08:52.052Z"
   },
   {
    "duration": 74,
    "start_time": "2025-02-08T19:08:52.070Z"
   },
   {
    "duration": 2938,
    "start_time": "2025-02-11T02:52:49.241Z"
   },
   {
    "duration": 15,
    "start_time": "2025-02-11T02:52:52.182Z"
   },
   {
    "duration": 2,
    "start_time": "2025-02-11T02:52:52.199Z"
   },
   {
    "duration": 3,
    "start_time": "2025-02-11T02:52:52.207Z"
   },
   {
    "duration": 11,
    "start_time": "2025-02-11T02:52:52.212Z"
   },
   {
    "duration": 8,
    "start_time": "2025-02-11T02:52:52.226Z"
   },
   {
    "duration": 3,
    "start_time": "2025-02-11T02:52:52.236Z"
   },
   {
    "duration": 8,
    "start_time": "2025-02-11T02:52:52.240Z"
   },
   {
    "duration": 15,
    "start_time": "2025-02-11T02:52:52.250Z"
   },
   {
    "duration": 41,
    "start_time": "2025-02-11T02:52:52.268Z"
   },
   {
    "duration": 4,
    "start_time": "2025-02-11T02:52:52.310Z"
   },
   {
    "duration": 8,
    "start_time": "2025-02-11T02:52:52.316Z"
   },
   {
    "duration": 2852,
    "start_time": "2025-02-11T02:52:52.326Z"
   },
   {
    "duration": 514,
    "start_time": "2025-02-11T02:52:55.180Z"
   },
   {
    "duration": 2,
    "start_time": "2025-02-11T02:52:55.705Z"
   },
   {
    "duration": 4,
    "start_time": "2025-02-11T02:52:55.709Z"
   },
   {
    "duration": 8,
    "start_time": "2025-02-11T02:52:55.715Z"
   },
   {
    "duration": 8,
    "start_time": "2025-02-11T02:52:55.724Z"
   },
   {
    "duration": 15,
    "start_time": "2025-02-11T02:52:55.733Z"
   },
   {
    "duration": 21,
    "start_time": "2025-02-11T02:52:55.750Z"
   },
   {
    "duration": 46,
    "start_time": "2025-02-11T02:52:55.772Z"
   },
   {
    "duration": 21,
    "start_time": "2025-02-11T02:52:55.820Z"
   },
   {
    "duration": 10,
    "start_time": "2025-02-11T02:52:55.842Z"
   },
   {
    "duration": 4,
    "start_time": "2025-02-11T02:52:55.854Z"
   },
   {
    "duration": 4,
    "start_time": "2025-02-11T02:52:55.860Z"
   },
   {
    "duration": 44,
    "start_time": "2025-02-11T02:52:55.866Z"
   },
   {
    "duration": 3,
    "start_time": "2025-02-11T02:52:55.911Z"
   },
   {
    "duration": 5,
    "start_time": "2025-02-11T02:52:55.918Z"
   },
   {
    "duration": 22,
    "start_time": "2025-02-11T02:52:55.924Z"
   },
   {
    "duration": 4,
    "start_time": "2025-02-11T02:52:55.948Z"
   },
   {
    "duration": 369,
    "start_time": "2025-02-11T02:52:55.955Z"
   },
   {
    "duration": 403,
    "start_time": "2025-02-11T02:52:56.326Z"
   },
   {
    "duration": 4,
    "start_time": "2025-02-11T02:52:56.730Z"
   },
   {
    "duration": 4,
    "start_time": "2025-02-11T02:52:56.735Z"
   },
   {
    "duration": 5,
    "start_time": "2025-02-11T02:52:56.740Z"
   },
   {
    "duration": 8,
    "start_time": "2025-02-11T02:52:56.747Z"
   },
   {
    "duration": 50,
    "start_time": "2025-02-11T02:52:56.756Z"
   },
   {
    "duration": 4,
    "start_time": "2025-02-11T02:52:56.809Z"
   },
   {
    "duration": 3,
    "start_time": "2025-02-11T02:52:56.814Z"
   },
   {
    "duration": 4,
    "start_time": "2025-02-11T02:52:56.818Z"
   },
   {
    "duration": 3,
    "start_time": "2025-02-11T02:52:56.824Z"
   },
   {
    "duration": 83,
    "start_time": "2025-02-11T02:52:56.829Z"
   },
   {
    "duration": 5,
    "start_time": "2025-02-11T02:52:56.914Z"
   },
   {
    "duration": 2,
    "start_time": "2025-02-11T02:52:56.921Z"
   },
   {
    "duration": 5,
    "start_time": "2025-02-11T02:52:56.925Z"
   },
   {
    "duration": 76,
    "start_time": "2025-02-11T02:52:56.931Z"
   },
   {
    "duration": 4,
    "start_time": "2025-02-11T02:52:57.009Z"
   },
   {
    "duration": 5,
    "start_time": "2025-02-11T02:52:57.015Z"
   },
   {
    "duration": 6,
    "start_time": "2025-02-11T02:52:57.021Z"
   },
   {
    "duration": 80,
    "start_time": "2025-02-11T02:52:57.029Z"
   },
   {
    "duration": 4,
    "start_time": "2025-02-11T02:52:57.111Z"
   }
  ],
  "kernelspec": {
   "display_name": "python311",
   "language": "python",
   "name": "python3"
  },
  "language_info": {
   "codemirror_mode": {
    "name": "ipython",
    "version": 3
   },
   "file_extension": ".py",
   "mimetype": "text/x-python",
   "name": "python",
   "nbconvert_exporter": "python",
   "pygments_lexer": "ipython3",
   "version": "3.11.11"
  },
  "toc": {
   "base_numbering": 1,
   "nav_menu": {},
   "number_sections": true,
   "sideBar": true,
   "skip_h1_title": true,
   "title_cell": "Table of Contents",
   "title_sidebar": "Contents",
   "toc_cell": false,
   "toc_position": {
    "height": "calc(100% - 180px)",
    "left": "10px",
    "top": "150px",
    "width": "241.6px"
   },
   "toc_section_display": true,
   "toc_window_display": true
  }
 },
 "nbformat": 4,
 "nbformat_minor": 4
}
